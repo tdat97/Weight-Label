{
 "cells": [
  {
   "cell_type": "code",
   "execution_count": null,
   "id": "54794b50-0700-4124-8cda-c300afa70b3f",
   "metadata": {},
   "outputs": [],
   "source": [
    "import win32ui, win32print\n",
    "from PIL import ImageWin\n",
    "\n",
    "def print_file(img):\n",
    "    # 프린터 선택\n",
    "    printer_name = win32print.GetDefaultPrinter()\n",
    "\n",
    "    # 인쇄하기\n",
    "    dc = win32ui.CreateDC()\n",
    "    dc.CreatePrinterDC(printer_name)\n",
    "    dc.StartDoc(\"image\")\n",
    "    dc.StartPage()\n",
    "    bmp = ImageWin.Dib(img)\n",
    "    bmp.draw(dc.GetHandleOutput(), (0, 0, img.size[0], img.size[1]))\n",
    "    dc.EndPage()\n",
    "    dc.EndDoc()\n",
    "    dc.DeleteDC()"
   ]
  },
  {
   "cell_type": "code",
   "execution_count": 22,
   "id": "f410eae8-0dd2-434c-9e00-a31a395d8fa4",
   "metadata": {
    "tags": []
   },
   "outputs": [
    {
     "ename": "AttributeError",
     "evalue": "print_to_printer",
     "output_type": "error",
     "traceback": [
      "\u001b[1;31m---------------------------------------------------------------------------\u001b[0m",
      "\u001b[1;31mAttributeError\u001b[0m                            Traceback (most recent call last)",
      "Cell \u001b[1;32mIn[22], line 10\u001b[0m\n\u001b[0;32m      8\u001b[0m \u001b[38;5;66;03m# 인쇄하기\u001b[39;00m\n\u001b[0;32m      9\u001b[0m printer_name \u001b[38;5;241m=\u001b[39m win32print\u001b[38;5;241m.\u001b[39mGetDefaultPrinter()\n\u001b[1;32m---> 10\u001b[0m \u001b[43mimg\u001b[49m\u001b[38;5;241;43m.\u001b[39;49m\u001b[43mprint_to_printer\u001b[49m(printer_name)\n",
      "File \u001b[1;32mc:\\_main\\___space2\\env\\weight_label_print\\lib\\site-packages\\PIL\\Image.py:528\u001b[0m, in \u001b[0;36mImage.__getattr__\u001b[1;34m(self, name)\u001b[0m\n\u001b[0;32m    526\u001b[0m     deprecate(\u001b[38;5;124m\"\u001b[39m\u001b[38;5;124mImage categories\u001b[39m\u001b[38;5;124m\"\u001b[39m, \u001b[38;5;241m10\u001b[39m, \u001b[38;5;124m\"\u001b[39m\u001b[38;5;124mis_animated\u001b[39m\u001b[38;5;124m\"\u001b[39m, plural\u001b[38;5;241m=\u001b[39m\u001b[38;5;28;01mTrue\u001b[39;00m)\n\u001b[0;32m    527\u001b[0m     \u001b[38;5;28;01mreturn\u001b[39;00m \u001b[38;5;28mself\u001b[39m\u001b[38;5;241m.\u001b[39m_category\n\u001b[1;32m--> 528\u001b[0m \u001b[38;5;28;01mraise\u001b[39;00m \u001b[38;5;167;01mAttributeError\u001b[39;00m(name)\n",
      "\u001b[1;31mAttributeError\u001b[0m: print_to_printer"
     ]
    }
   ],
   "source": [
    "import win32print\n",
    "from PIL import Image\n",
    "\n",
    "# 이미지 열기\n",
    "\n",
    "img = Image.new('RGB', font_wh, (255,255,255))\n",
    "\n",
    "# 인쇄하기\n",
    "printer_name = win32print.GetDefaultPrinter()\n",
    "img.print_to_printer(printer_name)"
   ]
  },
  {
   "cell_type": "code",
   "execution_count": 21,
   "id": "07dc6f89-4e52-4deb-af45-0e945cd947a3",
   "metadata": {},
   "outputs": [
    {
     "ename": "ModuleNotFoundError",
     "evalue": "No module named 'ImageWin'",
     "output_type": "error",
     "traceback": [
      "\u001b[1;31m---------------------------------------------------------------------------\u001b[0m",
      "\u001b[1;31mModuleNotFoundError\u001b[0m                       Traceback (most recent call last)",
      "Cell \u001b[1;32mIn[21], line 1\u001b[0m\n\u001b[1;32m----> 1\u001b[0m \u001b[38;5;28;01mimport\u001b[39;00m \u001b[38;5;21;01mImageWin\u001b[39;00m\n",
      "\u001b[1;31mModuleNotFoundError\u001b[0m: No module named 'ImageWin'"
     ]
    }
   ],
   "source": [
    "import ImageWin"
   ]
  },
  {
   "cell_type": "code",
   "execution_count": 30,
   "id": "5c22c263-9d36-4ad0-9549-d77f1f641e3d",
   "metadata": {
    "tags": []
   },
   "outputs": [
    {
     "data": {
      "text/plain": [
       "array([[  0,   0,   0,   0],\n",
       "       [  0,   0,   0,   0],\n",
       "       [  0,   0,   0,   0],\n",
       "       [255, 255, 255, 255],\n",
       "       [255, 255, 255, 255],\n",
       "       [255, 255, 255, 255],\n",
       "       [255, 255, 255, 255],\n",
       "       [255, 255, 255, 255],\n",
       "       [255, 255, 255, 255],\n",
       "       [255, 255, 255, 255]], dtype=uint8)"
      ]
     },
     "execution_count": 30,
     "metadata": {},
     "output_type": "execute_result"
    }
   ],
   "source": [
    "from PIL import Image, ImageWin\n",
    "import numpy as np\n",
    "\n",
    "# 이미지 파일 열기\n",
    "img = Image.open(\"./resource/라벨지 양식.png\")\n",
    "np.array(img)[5, :10]\n"
   ]
  },
  {
   "cell_type": "code",
   "execution_count": 39,
   "id": "a238c160-65b5-4530-8c21-47c5f77a61a9",
   "metadata": {
    "tags": []
   },
   "outputs": [
    {
     "data": {
      "text/plain": [
       "array([[  0,   0,   0],\n",
       "       [  0,   0,   0],\n",
       "       [  0,   0,   0],\n",
       "       [255, 255, 255],\n",
       "       [255, 255, 255],\n",
       "       [255, 255, 255],\n",
       "       [255, 255, 255],\n",
       "       [255, 255, 255],\n",
       "       [255, 255, 255],\n",
       "       [253, 253, 253],\n",
       "       [ 57,  57,  57],\n",
       "       [  0,   0,   0],\n",
       "       [  0,   0,   0],\n",
       "       [  0,   0,   0],\n",
       "       [  0,   0,   0],\n",
       "       [  0,   0,   0],\n",
       "       [  0,   0,   0],\n",
       "       [  0,   0,   0],\n",
       "       [  0,   0,   0],\n",
       "       [191, 191, 191]], dtype=uint8)"
      ]
     },
     "execution_count": 39,
     "metadata": {},
     "output_type": "execute_result"
    }
   ],
   "source": [
    "import cv2\n",
    "\n",
    "cv2.imread(\"./resource/label.png\")[20, :20]"
   ]
  },
  {
   "cell_type": "code",
   "execution_count": 12,
   "id": "09bf273d-4dd4-471c-b9a5-cf31d077532c",
   "metadata": {
    "tags": []
   },
   "outputs": [
    {
     "data": {
      "image/png": "[encoded data removed]",
      "text/plain": [
       "<PIL.Image.Image image mode=RGB size=281x179>"
      ]
     },
     "execution_count": 12,
     "metadata": {},
     "output_type": "execute_result"
    }
   ],
   "source": [
    "import cv2\n",
    "import numpy as np\n",
    "\n",
    "img = cv2.imread(\"./temp/apple.jpg\")[:,:,::-1]\n",
    "type(img) == np.ndarray\n",
    "img = Image.fromarray(img)\n",
    "img"
   ]
  },
  {
   "cell_type": "code",
   "execution_count": 8,
   "id": "37248383-45c8-43ff-ada4-e17d5be29193",
   "metadata": {
    "tags": []
   },
   "outputs": [
    {
     "data": {
      "text/plain": [
       "100"
      ]
     },
     "execution_count": 8,
     "metadata": {},
     "output_type": "execute_result"
    }
   ],
   "source": [
    "img.size[0]"
   ]
  },
  {
   "cell_type": "code",
   "execution_count": 9,
   "id": "6630ac63-e9ff-4207-bc89-6595f4b20f25",
   "metadata": {
    "tags": []
   },
   "outputs": [],
   "source": [
    "from tkinter import *\n",
    "from tkcalendar import DateEntry\n",
    "import datetime\n",
    "\n",
    "root = Tk()\n",
    "\n",
    "f1=Frame(root,width=1500,height=100,relief=SUNKEN,bd=4,bg='light steel blue')\n",
    "f1.pack(side=TOP)\n",
    "f2=Frame(root,width=1500,height=550,relief=SUNKEN,bd=4,bg='white')\n",
    "f2.pack()\n",
    "f3=Frame(root,width=1600,height=100,relief=SUNKEN,bd=4,bg='white')\n",
    "f3.pack(side=BOTTOM)\n",
    "\n",
    "\n",
    "#Creating the date column\n",
    "l4=Label(f2,text='DATE',font=('tahoma',20,'bold'),fg='black',anchor='w')\n",
    "l4.grid(row=0,column=3)\n",
    "\n",
    "cal=DateEntry(f2, selectmode='day',date_pattern='yyyy-MM-dd', arrowheadwidth=15)\n",
    "cal.grid(row=1,column=3,sticky='nsew')\n",
    "cal.set_date(datetime.datetime.strptime(\"2023-05-01\", '%Y-%m-%d').date())\n",
    "\n",
    "root.mainloop()"
   ]
  },
  {
   "cell_type": "code",
   "execution_count": 19,
   "id": "a36182e1-c388-4b3c-9abc-eef1ea790b5c",
   "metadata": {
    "tags": []
   },
   "outputs": [],
   "source": [
    "from tkinter import *\n",
    "from tkcalendar import DateEntry, Calendar\n",
    "\n",
    "def show_calendar():\n",
    "    # Toplevel 위젯 생성\n",
    "    cal_top = Toplevel(root)\n",
    "\n",
    "    # Calendar 위젯 생성\n",
    "    cal = Calendar(cal_top, selectmode='day', year=2023, month=5, day=11)\n",
    "\n",
    "    # DateEntry 위젯과 Calendar 위젯 연결\n",
    "    date_entry.set_date(cal.selection_get())\n",
    "\n",
    "    def set_date():\n",
    "        # DateEntry 위젯의 값을 선택된 날짜로 설정\n",
    "        date_entry.set_date(cal.selection_get())\n",
    "        # Toplevel 위젯 닫기\n",
    "        cal_top.destroy()\n",
    "\n",
    "    # Calendar 위젯에서 날짜 클릭 시, set_date() 함수 호출\n",
    "    cal.bind('<<CalendarSelected>>', lambda event: set_date())\n",
    "\n",
    "    # DateEntry 위젯, Calendar 위젯 배치\n",
    "    cal.pack(padx=5, pady=5)\n",
    "\n",
    "    # DateEntry 위젯에 포커스 설정\n",
    "    root.focus_set()\n",
    "\n",
    "    \n",
    "root = Tk()\n",
    "\n",
    "# 버튼 생성\n",
    "btn_calendar = Button(root, text=\"Calendar\", command=show_calendar)\n",
    "\n",
    "# DateEntry 위젯 생성\n",
    "date_entry = DateEntry(root, width=12)\n",
    "\n",
    "# 버튼과 DateEntry 위젯 배치\n",
    "btn_calendar.pack(pady=5)\n",
    "date_entry.pack(pady=5)\n",
    "\n",
    "root.mainloop()"
   ]
  },
  {
   "cell_type": "code",
   "execution_count": 63,
   "id": "7a8b99d9-8ef0-4f6d-81e6-5c61230924bc",
   "metadata": {
    "tags": []
   },
   "outputs": [],
   "source": [
    "from tkinter import *\n",
    "from tkcalendar import DateEntry, Calendar\n",
    "\n",
    "\n",
    "root = Tk()\n",
    "\n",
    "\n",
    "# DateEntry 위젯 생성\n",
    "date_entry = DateEntry(root, width=12)\n",
    "\n",
    "# def open_calendar(event=None):\n",
    "#     date_entry.drop_down()\n",
    "\n",
    "# btn_calendar.bind(\"<Button-1>\", open_calendar)\n",
    "# 버튼 생성\n",
    "btn_calendar = Button(root, text=\"Calendar\", command=date_entry.drop_down)\n",
    "\n",
    "# 버튼과 DateEntry 위젯 배치\n",
    "btn_calendar.pack(pady=5)\n",
    "date_entry.pack(pady=5)\n",
    "\n",
    "root.mainloop()\n"
   ]
  },
  {
   "cell_type": "code",
   "execution_count": 64,
   "id": "a944326a-ff7b-4410-a30b-5af6775578b1",
   "metadata": {
    "tags": []
   },
   "outputs": [
    {
     "name": "stdout",
     "output_type": "stream",
     "text": [
      "2023-05-10\n",
      "2023-05-08\n",
      "2023-05-05\n",
      "2023-05-06\n",
      "2023-05-03\n"
     ]
    }
   ],
   "source": [
    "import tkinter as tk\n",
    "from tkcalendar import DateEntry\n",
    "\n",
    "root = tk.Tk()\n",
    "\n",
    "def show_calendar():\n",
    "    date_entry.drop_down()\n",
    "\n",
    "def on_date_select(event):\n",
    "    print(date_entry.get_date())\n",
    "\n",
    "date_entry = DateEntry(root)\n",
    "date_entry.pack()\n",
    "\n",
    "button = tk.Button(root, text=\"Show Calendar\", command=show_calendar)\n",
    "button.pack()\n",
    "\n",
    "date_entry.bind(\"<<DateEntrySelected>>\", on_date_select)\n",
    "\n",
    "root.mainloop()\n"
   ]
  },
  {
   "cell_type": "code",
   "execution_count": 70,
   "id": "b4c654c8-c9f7-46dd-aae6-87e04e1fc95e",
   "metadata": {
    "tags": []
   },
   "outputs": [],
   "source": [
    "import tkinter as tk\n",
    "from tkinter import ttk\n",
    "import pandas as pd\n",
    "\n",
    "# 데이터프레임 생성\n",
    "data = {'Name': ['Alice', 'Bob', 'Charlie', 'David'],\n",
    "        'Age': [25, 32, 18, 47],\n",
    "        'Gender': ['Female', 'Male', 'Female', 'Male']}\n",
    "df = pd.DataFrame(data)\n",
    "\n",
    "# tkinter 윈도우 생성\n",
    "root = tk.Tk()\n",
    "root.title(\"Treeview 예시\")\n",
    "\n",
    "# Treeview 생성\n",
    "tree = ttk.Treeview(root)\n",
    "tree['columns'] = tuple(df.columns)\n",
    "tree['show'] = 'headings'\n",
    "\n",
    "# 열 제목 스타일 설정\n",
    "style = ttk.Style()\n",
    "style.configure(\"Treeview.Heading\", foreground=\"red\")\n",
    "\n",
    "# 각 열 제목 설정\n",
    "for column in tree['columns']:\n",
    "    tree.heading(column, text=column)\n",
    "\n",
    "# 데이터프레임 내용 추가\n",
    "for index, row in df.iterrows():\n",
    "    tree.insert('', 'end', values=tuple(row))\n",
    "\n",
    "# Treeview 위젯 배치\n",
    "tree.pack()\n",
    "\n",
    "# 윈도우 실행\n",
    "root.mainloop()\n"
   ]
  },
  {
   "cell_type": "code",
   "execution_count": 245,
   "id": "aa255885-ec06-4574-a8c8-29214ff7b803",
   "metadata": {
    "tags": []
   },
   "outputs": [
    {
     "name": "stdout",
     "output_type": "stream",
     "text": [
      "400\n",
      "('I001',)\n",
      "('I002',)\n",
      "('I003',)\n"
     ]
    }
   ],
   "source": [
    "import tkinter as tk\n",
    "from tkinter import ttk\n",
    "import tkinter.font as font\n",
    "from threading import Thread, Lock\n",
    "import time\n",
    "\n",
    "        \n",
    "class App:\n",
    "    def __init__(self):\n",
    "        self.root = tk.Tk()\n",
    "        # self.root.geometry(f'{self.winfo_screenwidth()}x{self.winfo_screenheight()}')\n",
    "        self.root.geometry(f'500x500')\n",
    "        \n",
    "        style = ttk.Style()\n",
    "        style.theme_use(\"default\")\n",
    "        style.configure('my.Treeview', font=('Arial', 16), rowheight=50)\n",
    "        style.configure('my.Treeview.Heading', font=('Arial', 32), background='#B6E2E4', foreground=\"#000\")\n",
    "        style.layout('Vertical.TScrollbar', [\n",
    "            ('Vertical.Scrollbar.trough', {'sticky': 'nswe', 'children': [\n",
    "                ('Vertical.Scrollbar.uparrow', {'side': 'top', 'sticky': 'nswe'}),\n",
    "                ('Vertical.Scrollbar.downarrow', {'side': 'bottom', 'sticky': 'nswe'}),\n",
    "                ('Vertical.Scrollbar.thumb', {'sticky': 'nswe', 'unit': 1, 'children': [\n",
    "                    ('Vertical.Scrollbar.grip', {'sticky': ''})\n",
    "                    ]})\n",
    "                ]})\n",
    "            ])\n",
    "        \n",
    "        self.tree = ttk.Treeview(style=\"my.Treeview\")\n",
    "        self.tree['columns'] = ['a','b']#tuple(['a','b'])\n",
    "        self.tree['show'] = 'headings'\n",
    "    \n",
    "        self.tree.place(relx=0.0, rely=0.0, relwidth=0.8, relheight=0.5)\n",
    "        for column in self.tree['columns']:\n",
    "            self.tree.heading(column, text=column, command=lambda v=column:self.on_heading_click(v))\n",
    "            self.tree.column(column, anchor='e')  # 데이터 우측 정렬\n",
    "        for i in range(100):\n",
    "            aa = self.tree.insert(\"\", \"end\", values=tuple([\"아이템 %s\" % i, \"Item %s\" % i, ]))#text=\"Item %s\" % i)\n",
    "        self.tree.bind(\"<Double-1>\", self.OnDoubleClick)\n",
    "        \n",
    "        \n",
    "        self.scrollbar = tk.Scrollbar(self.root, orient=\"vertical\", command=self.tree.yview)\n",
    "        self.scrollbar.place(relx=0.8, rely=0.0, relwidth=0.2, relheight=0.5)\n",
    "\n",
    "        self.tree.configure(yscrollcommand=self.scrollbar.set)\n",
    "        # scrollbar = tk.Scrollbar(root, orient='vertical', style='CustomStyle.Vertical.TScrollbar')\n",
    "        \n",
    "        # self.tree.set('I001', 0, \"Value Changed\")\n",
    "        Thread(target=self.test, args=(), daemon=True).start()\n",
    "        self.root.mainloop()\n",
    "    \n",
    "    def test(self):\n",
    "        time.sleep(0.1)\n",
    "        total_width = self.tree.winfo_width()\n",
    "        print(total_width)\n",
    "        self.tree.column('a', width=int(total_width * 0.7))\n",
    "        self.tree.column('b', width=int(total_width * 0.3))\n",
    "        \n",
    "\n",
    "    def OnDoubleClick(self, event):\n",
    "        time.sleep(0.1)\n",
    "        sel = self.tree.selection()\n",
    "        if not sel: return\n",
    "        item = self.tree.selection()[0]\n",
    "        print(\"you clicked on\", self.tree.item(item,\"values\"))#\"text\"))\n",
    "        \n",
    "    def on_heading_click(self, v):\n",
    "        sel = self.tree.selection()\n",
    "        # self.tree.selection_remove(sel)\n",
    "        if v == 'a' and sel:\n",
    "            print(sel)\n",
    "            self.tree.delete(sel[0])\n",
    "\n",
    "if __name__ == \"__main__\":\n",
    "    app = App()"
   ]
  },
  {
   "cell_type": "code",
   "execution_count": 247,
   "id": "442a485d-af8c-40eb-86b6-761bb8848453",
   "metadata": {
    "tags": []
   },
   "outputs": [
    {
     "ename": "NameError",
     "evalue": "name 'self' is not defined",
     "output_type": "error",
     "traceback": [
      "\u001b[1;31m---------------------------------------------------------------------------\u001b[0m",
      "\u001b[1;31mNameError\u001b[0m                                 Traceback (most recent call last)",
      "Cell \u001b[1;32mIn[247], line 1\u001b[0m\n\u001b[1;32m----> 1\u001b[0m selected_item \u001b[38;5;241m=\u001b[39m \u001b[38;5;28;43mself\u001b[39;49m\u001b[38;5;241m.\u001b[39mtree\u001b[38;5;241m.\u001b[39mselection()[\u001b[38;5;241m0\u001b[39m]\n\u001b[0;32m      2\u001b[0m item_values \u001b[38;5;241m=\u001b[39m \u001b[38;5;28mself\u001b[39m\u001b[38;5;241m.\u001b[39mtree\u001b[38;5;241m.\u001b[39mitem(selected_item)[\u001b[38;5;124m'\u001b[39m\u001b[38;5;124mvalues\u001b[39m\u001b[38;5;124m'\u001b[39m]\n\u001b[0;32m      3\u001b[0m name \u001b[38;5;241m=\u001b[39m item_values[\u001b[38;5;241m0\u001b[39m]\n",
      "\u001b[1;31mNameError\u001b[0m: name 'self' is not defined"
     ]
    }
   ],
   "source": [
    "selected_item = self.tree.selection()[0]\n",
    "item_values = self.tree.item(selected_item)['values']\n",
    "name = item_values[0]\n"
   ]
  },
  {
   "cell_type": "code",
   "execution_count": 191,
   "id": "b280f0f1-1f3b-47e5-bef1-af07818fb9e8",
   "metadata": {
    "tags": []
   },
   "outputs": [],
   "source": [
    "from tkinter import *\n",
    "from tkinter import ttk\n",
    "\n",
    "root = Tk()\n",
    "\n",
    "# 스타일 정의\n",
    "style = ttk.Style()\n",
    "style.configure('CustomStyle.Vertical.TScrollbar', width=600)  # 가로 너비 조정\n",
    "\n",
    "# 스크롤바 생성\n",
    "scrollbar = ttk.Scrollbar(root, orient='vertical', style='CustomStyle.Vertical.TScrollbar')\n",
    "scrollbar.pack(side=RIGHT, fill=Y)\n",
    "\n",
    "# 리스트박스 생성 및 스크롤바와 연결\n",
    "listbox = Listbox(root, yscrollcommand=scrollbar.set)\n",
    "for i in range(100):\n",
    "    listbox.insert(END, f\"Item {i}\")\n",
    "listbox.pack(side=LEFT, fill=BOTH, expand=True)\n",
    "scrollbar.config(command=listbox.yview)\n",
    "\n",
    "root.mainloop()\n"
   ]
  },
  {
   "cell_type": "code",
   "execution_count": 269,
   "id": "66dcde6a-b04e-4cc3-80e7-1a22bf0df667",
   "metadata": {
    "tags": []
   },
   "outputs": [
    {
     "name": "stdin",
     "output_type": "stream",
     "text": [
      "Enter name:  123\n",
      "Enter age:  3123\n"
     ]
    },
    {
     "name": "stdout",
     "output_type": "stream",
     "text": [
      "2\n",
      "['Jane Doe', 25]\n"
     ]
    },
    {
     "name": "stdin",
     "output_type": "stream",
     "text": [
      "Enter name:  4234\n",
      "Enter age:  1231\n"
     ]
    },
    {
     "name": "stdout",
     "output_type": "stream",
     "text": [
      "\n",
      "\n"
     ]
    }
   ],
   "source": [
    "import tkinter as tk\n",
    "from tkinter import ttk\n",
    "\n",
    "class App:\n",
    "    def __init__(self, master):\n",
    "        self.master = master\n",
    "        self.tree = ttk.Treeview(master, columns=('Name', 'Age'))\n",
    "        self.tree.heading('#0', text='ID')\n",
    "        self.tree.heading('Name', text='Name')\n",
    "        self.tree.heading('Age', text='Age')\n",
    "        self.tree.pack()\n",
    "\n",
    "        # Add button\n",
    "        add_button = tk.Button(master, text='Add', command=self.add_item)\n",
    "        add_button.pack()\n",
    "\n",
    "        # Edit button\n",
    "        edit_button = tk.Button(master, text='Edit', command=self.edit_item)\n",
    "        edit_button.pack()\n",
    "\n",
    "        # Delete button\n",
    "        delete_button = tk.Button(master, text='Delete', command=self.delete_item)\n",
    "        delete_button.pack()\n",
    "\n",
    "        # Populate treeview with some sample data\n",
    "        self.tree.insert('', 'end', text='1', values=('John Doe', 30))\n",
    "        self.tree.insert('', 'end', text='2', values=('Jane Doe', 25))\n",
    "\n",
    "    def add_item(self):\n",
    "        name = input('Enter name: ')\n",
    "        age = input('Enter age: ')\n",
    "        item = self.tree.get_children()[-1] # I001 : str\n",
    "        print(self.tree.item(item)['text'])\n",
    "        print(self.tree.item(item)['values'])\n",
    "        text = \"I{:03d}\".format(int(item[-3:]) + 1)\n",
    "        self.tree.insert('', 'end', )#text=text,\n",
    "                         #values=(name, age))\n",
    "\n",
    "    def edit_item(self):\n",
    "        item = self.tree.selection()[0]\n",
    "        name = input('Enter new name: ')\n",
    "        age = input('Enter new age: ')\n",
    "        self.tree.item(item, values=(name, age))\n",
    "\n",
    "    def delete_item(self):\n",
    "        item = self.tree.selection()[0]\n",
    "        self.tree.delete(item)\n",
    "\n",
    "root = tk.Tk()\n",
    "app = App(root)\n",
    "root.mainloop()\n"
   ]
  },
  {
   "cell_type": "code",
   "execution_count": 322,
   "id": "ee442237-69f5-4762-a589-ebe9c37d8fa9",
   "metadata": {
    "tags": []
   },
   "outputs": [
    {
     "name": "stdout",
     "output_type": "stream",
     "text": [
      "RangeIndex(start=0, stop=6, step=1)\n"
     ]
    },
    {
     "data": {
      "text/html": [
       "<div>\n",
       "<style scoped>\n",
       "    .dataframe tbody tr th:only-of-type {\n",
       "        vertical-align: middle;\n",
       "    }\n",
       "\n",
       "    .dataframe tbody tr th {\n",
       "        vertical-align: top;\n",
       "    }\n",
       "\n",
       "    .dataframe thead th {\n",
       "        text-align: right;\n",
       "    }\n",
       "</style>\n",
       "<table border=\"1\" class=\"dataframe\">\n",
       "  <thead>\n",
       "    <tr style=\"text-align: right;\">\n",
       "      <th></th>\n",
       "      <th>a</th>\n",
       "      <th>b</th>\n",
       "    </tr>\n",
       "  </thead>\n",
       "  <tbody>\n",
       "    <tr>\n",
       "      <th>01</th>\n",
       "      <td>1</td>\n",
       "      <td>4</td>\n",
       "    </tr>\n",
       "    <tr>\n",
       "      <th>02</th>\n",
       "      <td>3</td>\n",
       "      <td>6</td>\n",
       "    </tr>\n",
       "    <tr>\n",
       "      <th>07</th>\n",
       "      <td>4</td>\n",
       "      <td>7</td>\n",
       "    </tr>\n",
       "    <tr>\n",
       "      <th>04</th>\n",
       "      <td>5</td>\n",
       "      <td>8</td>\n",
       "    </tr>\n",
       "    <tr>\n",
       "      <th>05</th>\n",
       "      <td>6</td>\n",
       "      <td>9</td>\n",
       "    </tr>\n",
       "    <tr>\n",
       "      <th>temp</th>\n",
       "      <td>9</td>\n",
       "      <td>9</td>\n",
       "    </tr>\n",
       "  </tbody>\n",
       "</table>\n",
       "</div>"
      ],
      "text/plain": [
       "      a  b\n",
       "01    1  4\n",
       "02    3  6\n",
       "07    4  7\n",
       "04    5  8\n",
       "05    6  9\n",
       "temp  9  9"
      ]
     },
     "execution_count": 322,
     "metadata": {},
     "output_type": "execute_result"
    }
   ],
   "source": [
    "import pandas as pd\n",
    "\n",
    "# DataFrame 생성\n",
    "df = pd.DataFrame({'a': [1, 2, 3, 4, 5, 6], 'b': [4, 5, 6, 7, 8, 9]})#, index=['x', 'y', 'z'])\n",
    "\n",
    "# index들 출력\n",
    "print(df.index)\n",
    "df = df.drop(1)\n",
    "df.index = ['01', '02', '07', '04', '05']\n",
    "df.loc['temp'] = [9,9]\n",
    "df"
   ]
  },
  {
   "cell_type": "code",
   "execution_count": 324,
   "id": "b136ee03-4faa-443c-8479-83742794abf7",
   "metadata": {
    "tags": []
   },
   "outputs": [
    {
     "data": {
      "text/html": [
       "<div>\n",
       "<style scoped>\n",
       "    .dataframe tbody tr th:only-of-type {\n",
       "        vertical-align: middle;\n",
       "    }\n",
       "\n",
       "    .dataframe tbody tr th {\n",
       "        vertical-align: top;\n",
       "    }\n",
       "\n",
       "    .dataframe thead th {\n",
       "        text-align: right;\n",
       "    }\n",
       "</style>\n",
       "<table border=\"1\" class=\"dataframe\">\n",
       "  <thead>\n",
       "    <tr style=\"text-align: right;\">\n",
       "      <th></th>\n",
       "      <th>a</th>\n",
       "      <th>b</th>\n",
       "      <th>temp</th>\n",
       "    </tr>\n",
       "  </thead>\n",
       "  <tbody>\n",
       "    <tr>\n",
       "      <th>01</th>\n",
       "      <td>1</td>\n",
       "      <td>4</td>\n",
       "      <td>0</td>\n",
       "    </tr>\n",
       "    <tr>\n",
       "      <th>02</th>\n",
       "      <td>3</td>\n",
       "      <td>6</td>\n",
       "      <td>0</td>\n",
       "    </tr>\n",
       "    <tr>\n",
       "      <th>07</th>\n",
       "      <td>4</td>\n",
       "      <td>7</td>\n",
       "      <td>0</td>\n",
       "    </tr>\n",
       "    <tr>\n",
       "      <th>04</th>\n",
       "      <td>5</td>\n",
       "      <td>8</td>\n",
       "      <td>0</td>\n",
       "    </tr>\n",
       "    <tr>\n",
       "      <th>05</th>\n",
       "      <td>6</td>\n",
       "      <td>9</td>\n",
       "      <td>0</td>\n",
       "    </tr>\n",
       "    <tr>\n",
       "      <th>temp</th>\n",
       "      <td>9</td>\n",
       "      <td>9</td>\n",
       "      <td>0</td>\n",
       "    </tr>\n",
       "  </tbody>\n",
       "</table>\n",
       "</div>"
      ],
      "text/plain": [
       "      a  b  temp\n",
       "01    1  4     0\n",
       "02    3  6     0\n",
       "07    4  7     0\n",
       "04    5  8     0\n",
       "05    6  9     0\n",
       "temp  9  9     0"
      ]
     },
     "execution_count": 324,
     "metadata": {},
     "output_type": "execute_result"
    }
   ],
   "source": [
    "df.loc[:, 'temp'] = 0\n",
    "df"
   ]
  },
  {
   "cell_type": "code",
   "execution_count": 290,
   "id": "fdd5ef47-4843-46a1-acc4-a15043b84bdf",
   "metadata": {
    "tags": []
   },
   "outputs": [],
   "source": [
    "df.rename(index={'temp':'test'}, inplace=True)"
   ]
  },
  {
   "cell_type": "code",
   "execution_count": 315,
   "id": "08419342-8dcd-4ba8-8c43-e07b452bd794",
   "metadata": {
    "tags": []
   },
   "outputs": [
    {
     "data": {
      "text/plain": [
       "False"
      ]
     },
     "execution_count": 315,
     "metadata": {},
     "output_type": "execute_result"
    }
   ],
   "source": [
    "not list(df[df[\"a\"] == 4].iloc[:1].index)"
   ]
  },
  {
   "cell_type": "code",
   "execution_count": 327,
   "id": "46aa0afa-91be-4c21-be7d-bdd4b95beba0",
   "metadata": {
    "tags": []
   },
   "outputs": [
    {
     "data": {
      "text/plain": [
       "[1, 4, 0]"
      ]
     },
     "execution_count": 327,
     "metadata": {},
     "output_type": "execute_result"
    }
   ],
   "source": [
    "list(df.loc['01',:])"
   ]
  },
  {
   "cell_type": "code",
   "execution_count": null,
   "id": "d089aad9-6ecd-421e-a4e6-0dc46a024964",
   "metadata": {},
   "outputs": [],
   "source": []
  },
  {
   "cell_type": "code",
   "execution_count": 128,
   "id": "e340127a-6a5b-479b-bb3d-8daf67b2c208",
   "metadata": {
    "tags": []
   },
   "outputs": [],
   "source": [
    "class ValueControl():\n",
    "    def __init__(self, dtype=float):\n",
    "        self.dtype = dtype\n",
    "        self.real_value = dtype(0)\n",
    "        self.value_text = '0'\n",
    "        \n",
    "    def input_cmd(self, cmd):\n",
    "        assert len(cmd) == 1\n",
    "        \n",
    "        # 숫자 체크\n",
    "        if cmd.isdigit():\n",
    "            if self.real_value == 0: self.value_text = ''\n",
    "            self.value_text += cmd\n",
    "            self.real_value = self.dtype(self.value_text)\n",
    "        elif cmd == '.':\n",
    "            if self.real_value == 0 or '.' in self.value_text: return\n",
    "            self.value_text += cmd\n",
    "        else:\n",
    "            self.value_text = self.value_text[:-1]\n",
    "            if self.value_text == '':\n",
    "                self.value_text = '0'\n",
    "            self.real_value = self.dtype(self.value_text)\n",
    "    \n",
    "    def set_value(self, value):\n",
    "        assert type(value) == str\n",
    "        assert len(value) > 0\n",
    "        assert self.dtype == float or not '.' in value, \"int인데 점(.)이 있음\"\n",
    "        assert '.' != value[0]\n",
    "        \n",
    "        self.value_text = value\n",
    "        self.real_value = self.dtype(value)\n",
    "        \n",
    "    def print_value(self):\n",
    "        print('value_text :', self.value_text)\n",
    "        print('real_value :', self.real_value)\n",
    "        \n",
    "    def __add__(self, other):\n",
    "        return self.real_value + other\n",
    "                "
   ]
  },
  {
   "cell_type": "code",
   "execution_count": 129,
   "id": "34417b93-5de2-4458-8bf8-183b55eb8332",
   "metadata": {
    "tags": []
   },
   "outputs": [],
   "source": [
    "value_control = ValueControl()"
   ]
  },
  {
   "cell_type": "code",
   "execution_count": 130,
   "id": "dd0428c9-0daa-4d8a-9794-2c3bf39f5f77",
   "metadata": {
    "tags": []
   },
   "outputs": [
    {
     "name": "stdout",
     "output_type": "stream",
     "text": [
      "value_text : 123\n",
      "real_value : 123.0\n"
     ]
    }
   ],
   "source": [
    "value_control.set_value('123')\n",
    "value_control.print_value()"
   ]
  },
  {
   "cell_type": "code",
   "execution_count": 118,
   "id": "14f05304-5131-491e-b4d7-706022601c01",
   "metadata": {
    "tags": []
   },
   "outputs": [
    {
     "name": "stdout",
     "output_type": "stream",
     "text": [
      "value_text : 1231\n",
      "real_value : 1231.0\n"
     ]
    }
   ],
   "source": [
    "value_control.input_cmd('1')\n",
    "value_control.print_value()"
   ]
  },
  {
   "cell_type": "code",
   "execution_count": null,
   "id": "ef824b26-aa5f-497b-b34b-e7e717f02877",
   "metadata": {},
   "outputs": [],
   "source": []
  },
  {
   "cell_type": "code",
   "execution_count": null,
   "id": "dfae39eb-bfaf-4071-be01-84ffaa30dfe1",
   "metadata": {},
   "outputs": [],
   "source": []
  },
  {
   "cell_type": "code",
   "execution_count": null,
   "id": "2664329a-e74d-472d-902a-910c6e9deb6e",
   "metadata": {},
   "outputs": [],
   "source": []
  },
  {
   "cell_type": "code",
   "execution_count": 136,
   "id": "3acdefa6-7728-4206-afb2-81450b13434c",
   "metadata": {
    "tags": []
   },
   "outputs": [
    {
     "data": {
      "text/plain": [
       "{'host': 'dev02.smhaccp.co.kr',\n",
       " 'port': 13306,\n",
       " 'user': 'smhDev02',\n",
       " 'password': 'mdb021223!',\n",
       " 'db': 'paekdu_mes'}"
      ]
     },
     "execution_count": 136,
     "metadata": {},
     "output_type": "execute_result"
    }
   ],
   "source": [
    "from utils.crypto import glance\n",
    "from utils.text import *\n",
    "import json\n",
    "import os\n",
    "\n",
    "with open(SETTING_PATH, \"r\", encoding='utf-8') as f:\n",
    "    setting_dic = json.load(f)\n",
    "\n",
    "\n",
    "db_info_dir = setting_dic[\"db_info_dir\"]\n",
    "db_info_path = os.path.join(db_info_dir, DB_INFO_FILE)\n",
    "db_info_str = glance(db_info_path)\n",
    "db_info_dic = json.loads(db_info_str)\n",
    "db_info_dic"
   ]
  },
  {
   "cell_type": "code",
   "execution_count": 237,
   "id": "3931d64b-b431-487b-b1f0-d381c287c345",
   "metadata": {
    "tags": []
   },
   "outputs": [
    {
     "data": {
      "text/plain": [
       "\"SELECT \\n    w.ORDER_NO,\\n    w.EXPIRY_DT, \\n    w.HIS_NO, \\n    w.PROD_QTY, \\n    i.ITEM_CD, \\n    i.ITEM_NM, \\n    i.MFFART_RPT_NO, \\n    i.BOX_IN_CNT,\\n    i.PLOR_CD, \\n    i.STRG_TYPE,\\n    s.BUNDLE_NO, \\n    s.BUTCHERY_NM\\nFROM \\n    tb_mes_wo100 w\\n    JOIN tb_mes_item000 i ON w.ITEM_CD = i.ITEM_CD\\n    JOIN tb_mes_skrghis110 s ON w.HIS_NO = s.HIS_NO\\nWHERE\\n    w.ORDER_DT = '{}' AND w.COMPANY = 1000;\""
      ]
     },
     "execution_count": 237,
     "metadata": {},
     "output_type": "execute_result"
    }
   ],
   "source": [
    "with open(SQL_DIR_PATH+\"/select.txt\", 'r') as f:\n",
    "    select_sql = f.read()\n",
    "select_sql"
   ]
  },
  {
   "cell_type": "code",
   "execution_count": 240,
   "id": "be9699a6-b654-4317-999b-c32a26754c79",
   "metadata": {
    "tags": []
   },
   "outputs": [
    {
     "data": {
      "text/html": [
       "<div>\n",
       "<style scoped>\n",
       "    .dataframe tbody tr th:only-of-type {\n",
       "        vertical-align: middle;\n",
       "    }\n",
       "\n",
       "    .dataframe tbody tr th {\n",
       "        vertical-align: top;\n",
       "    }\n",
       "\n",
       "    .dataframe thead th {\n",
       "        text-align: right;\n",
       "    }\n",
       "</style>\n",
       "<table border=\"1\" class=\"dataframe\">\n",
       "  <thead>\n",
       "    <tr style=\"text-align: right;\">\n",
       "      <th></th>\n",
       "      <th>ORDER_NO</th>\n",
       "      <th>EXPIRY_DT</th>\n",
       "      <th>HIS_NO</th>\n",
       "      <th>PROD_QTY</th>\n",
       "      <th>ITEM_CD</th>\n",
       "      <th>ITEM_NM</th>\n",
       "      <th>MFFART_RPT_NO</th>\n",
       "      <th>BOX_IN_CNT</th>\n",
       "      <th>PLOR_CD</th>\n",
       "      <th>STRG_TYPE</th>\n",
       "      <th>BUNDLE_NO</th>\n",
       "      <th>BUTCHERY_NM</th>\n",
       "    </tr>\n",
       "  </thead>\n",
       "  <tbody>\n",
       "    <tr>\n",
       "      <th>0</th>\n",
       "      <td>WO1234567</td>\n",
       "      <td>2024-05-08</td>\n",
       "      <td>SK2302021</td>\n",
       "      <td>0.0</td>\n",
       "      <td>PR0001</td>\n",
       "      <td>test_unn</td>\n",
       "      <td>123456</td>\n",
       "      <td>11</td>\n",
       "      <td>AUS</td>\n",
       "      <td>F</td>\n",
       "      <td>L12301135239001</td>\n",
       "      <td>(주)강원엘피씨</td>\n",
       "    </tr>\n",
       "  </tbody>\n",
       "</table>\n",
       "</div>"
      ],
      "text/plain": [
       "    ORDER_NO   EXPIRY_DT     HIS_NO  PROD_QTY ITEM_CD   ITEM_NM MFFART_RPT_NO   \n",
       "0  WO1234567  2024-05-08  SK2302021       0.0  PR0001  test_unn        123456  \\\n",
       "\n",
       "   BOX_IN_CNT PLOR_CD STRG_TYPE        BUNDLE_NO BUTCHERY_NM  \n",
       "0          11     AUS         F  L12301135239001    (주)강원엘피씨  "
      ]
     },
     "execution_count": 240,
     "metadata": {},
     "output_type": "execute_result"
    }
   ],
   "source": [
    "import pandas as pd\n",
    "import pymysql\n",
    "import warnings\n",
    "warnings.filterwarnings('ignore')\n",
    "\n",
    "con = pymysql.connect(**db_info_dic, charset='utf8', autocommit=True)\n",
    "cur = con.cursor()\n",
    "sql = select_sql.format(str(datetime.date.today()))\n",
    "df = pd.read_sql(sql, con)\n",
    "df"
   ]
  },
  {
   "cell_type": "code",
   "execution_count": 249,
   "id": "a6f20757-4462-4a70-8b66-6e6324ab0460",
   "metadata": {
    "tags": []
   },
   "outputs": [
    {
     "data": {
      "text/plain": [
       "\"UPDATE tb_mes_wo100 SET PROD_QTY=PROD_QTY+1 \\nWHERE ORDER_NO='WO1234567';\""
      ]
     },
     "execution_count": 249,
     "metadata": {},
     "output_type": "execute_result"
    }
   ],
   "source": [
    "with open(SQL_DIR_PATH+\"/update.txt\", 'r') as f:\n",
    "    update_sql = f.read()\n",
    "sql = update_sql.format('PROD_QTY', 'WO1234567')\n",
    "sql"
   ]
  },
  {
   "cell_type": "code",
   "execution_count": 250,
   "id": "faabe91c-4612-4d93-9700-9052caf76f36",
   "metadata": {
    "tags": []
   },
   "outputs": [
    {
     "data": {
      "text/plain": [
       "1"
      ]
     },
     "execution_count": 250,
     "metadata": {},
     "output_type": "execute_result"
    }
   ],
   "source": [
    "cur.execute(sql)"
   ]
  },
  {
   "cell_type": "code",
   "execution_count": 229,
   "id": "6175e68d-bf58-472a-8917-a0512ead847c",
   "metadata": {
    "tags": []
   },
   "outputs": [
    {
     "data": {
      "text/plain": [
       "array([30], dtype=object)"
      ]
     },
     "execution_count": 229,
     "metadata": {},
     "output_type": "execute_result"
    }
   ],
   "source": [
    "idx = df[df['Name'] == 'Bob'].iloc[0].name\n",
    "df.loc[idx, ['Age']].values"
   ]
  },
  {
   "cell_type": "code",
   "execution_count": 230,
   "id": "3e56c711-34ae-4ddb-96ea-5b37f16f4364",
   "metadata": {
    "tags": []
   },
   "outputs": [
    {
     "data": {
      "text/plain": [
       "30"
      ]
     },
     "execution_count": 230,
     "metadata": {},
     "output_type": "execute_result"
    }
   ],
   "source": [
    "df.loc[idx, 'Age']"
   ]
  },
  {
   "cell_type": "code",
   "execution_count": 236,
   "id": "30912e61-648e-47e1-bce6-8a925502cf81",
   "metadata": {
    "tags": []
   },
   "outputs": [
    {
     "name": "stdout",
     "output_type": "stream",
     "text": [
      "호주산\n",
      "국내산\n"
     ]
    }
   ],
   "source": [
    "from collections import defaultdict\n",
    "\n",
    "d = {'KOR':'국내산', 'AUS':'호주산', 'FRG':'미국산'}\n",
    "dd = defaultdict(lambda:'국내산', d)\n",
    "print(dd['AUS'])\n",
    "print(dd['asdf'])"
   ]
  },
  {
   "cell_type": "code",
   "execution_count": 235,
   "id": "e5b4616a-a897-40ff-b87f-50db17e148aa",
   "metadata": {
    "tags": []
   },
   "outputs": [
    {
     "data": {
      "text/plain": [
       "defaultdict(<function __main__.<lambda>()>,\n",
       "            {'KOR': '국내산', 'AUS': '호주산', 'FRG': '미국산', 0: '국내산'})"
      ]
     },
     "execution_count": 235,
     "metadata": {},
     "output_type": "execute_result"
    }
   ],
   "source": [
    "dd"
   ]
  },
  {
   "cell_type": "code",
   "execution_count": 219,
   "id": "3cd956db-8e03-4448-9c46-32bfe65649c1",
   "metadata": {
    "tags": []
   },
   "outputs": [
    {
     "name": "stdout",
     "output_type": "stream",
     "text": [
      "1\n"
     ]
    }
   ],
   "source": [
    "import pandas as pd\n",
    "\n",
    "# 데이터프레임 생성\n",
    "df = pd.DataFrame({'Name': ['Alice', 'Bob', 'Charlie'],\n",
    "                   'Age': [25, 30, 35],\n",
    "                   'Gender': ['F', 'M', 'M']})\n",
    "\n",
    "# iloc을 사용하여 2번째 행에 접근\n",
    "row_idx = df.iloc[1].name\n",
    "\n",
    "print(row_idx)"
   ]
  },
  {
   "cell_type": "code",
   "execution_count": null,
   "id": "dbb6b233-916b-402c-819f-360f5496e7de",
   "metadata": {},
   "outputs": [],
   "source": []
  },
  {
   "cell_type": "code",
   "execution_count": null,
   "id": "5e6539ec-762b-4b6e-8209-a7b4b88d399b",
   "metadata": {},
   "outputs": [],
   "source": [
    "barcode."
   ]
  },
  {
   "cell_type": "code",
   "execution_count": 296,
   "id": "496d95b8-3b39-4a0d-855a-537d74d7aa52",
   "metadata": {
    "tags": []
   },
   "outputs": [
    {
     "data": {
      "image/png": "[encoded data removed]",
      "text/plain": [
       "<PIL.PngImagePlugin.PngImageFile image mode=RGB size=376x280>"
      ]
     },
     "execution_count": 296,
     "metadata": {},
     "output_type": "execute_result"
    }
   ],
   "source": [
    "import io\n",
    "import barcode\n",
    "from barcode.writer import ImageWriter\n",
    "from PIL import Image\n",
    "\n",
    "# 바코드 생성\n",
    "# ean = barcode.get('code128', 'L123456789102', writer=ImageWriter())\n",
    "ean = barcode.get('gs1_128', 'L123456789102', writer=ImageWriter())\n",
    "\n",
    "# 바코드 이미지를 메모리로 가져오기\n",
    "buffer = io.BytesIO()\n",
    "ean.write(buffer)\n",
    "\n",
    "# 바이트 스트림에서 이미지 객체 생성\n",
    "barcode_image = Image.open(buffer)\n",
    "barcode_image"
   ]
  },
  {
   "cell_type": "code",
   "execution_count": null,
   "id": "2b91c8a1-29e8-4897-95dc-3b599525cc7f",
   "metadata": {},
   "outputs": [],
   "source": []
  },
  {
   "cell_type": "code",
   "execution_count": 2,
   "id": "1094b376-1fba-419c-9522-7baf98c0f6af",
   "metadata": {
    "tags": []
   },
   "outputs": [
    {
     "name": "stderr",
     "output_type": "stream",
     "text": [
      "C:\\Users\\RORO\\AppData\\Local\\Temp\\ipykernel_17500\\3855681660.py:9: DeprecationWarning: getsize is deprecated and will be removed in Pillow 10 (2023-07-01). Use getbbox or getlength instead.\n",
      "  font_wh = font.getsize(text)\n"
     ]
    },
    {
     "data": {
      "image/png": "[encoded data removed]",
      "text/plain": [
       "<PIL.Image.Image image mode=RGB size=6x19>"
      ]
     },
     "execution_count": 2,
     "metadata": {},
     "output_type": "execute_result"
    }
   ],
   "source": [
    "from PIL import ImageFont, ImageDraw, Image\n",
    "import numpy as np\n",
    "\n",
    "font_path = \"./resource/NanumGothic.ttf\"\n",
    "text = ' '\n",
    "font_size = 20\n",
    "\n",
    "font = ImageFont.truetype(font_path, font_size)\n",
    "font_wh = font.getsize(text)\n",
    "\n",
    "img = np.zeros((*font_wh[::-1], 3), dtype=np.uint8) + 255\n",
    "img = Image.fromarray(img)\n",
    "\n",
    "draw = ImageDraw.Draw(img)\n",
    "draw.text((0, 0), text, font=font, fill='#0f0')\n",
    "\n",
    "img"
   ]
  },
  {
   "cell_type": "code",
   "execution_count": 6,
   "id": "68ad22ca-9066-473b-aa8b-de2298b0f13b",
   "metadata": {
    "tags": []
   },
   "outputs": [
    {
     "data": {
      "text/plain": [
       "6.0"
      ]
     },
     "execution_count": 6,
     "metadata": {},
     "output_type": "execute_result"
    }
   ],
   "source": [
    "font.getlength(text)"
   ]
  },
  {
   "cell_type": "code",
   "execution_count": 9,
   "id": "38f88545-2673-41be-a182-a3a9421d8c62",
   "metadata": {
    "tags": []
   },
   "outputs": [
    {
     "data": {
      "text/plain": [
       "(6, 19)"
      ]
     },
     "execution_count": 9,
     "metadata": {},
     "output_type": "execute_result"
    }
   ],
   "source": [
    "img.size"
   ]
  },
  {
   "cell_type": "code",
   "execution_count": 319,
   "id": "488e4f0f-e52c-4a10-9ee8-3ee49d243fc8",
   "metadata": {
    "tags": []
   },
   "outputs": [],
   "source": [
    "img.paste(img, (0,0))"
   ]
  },
  {
   "cell_type": "code",
   "execution_count": 318,
   "id": "5c9d94ab-77ec-4395-a4b7-5cef8c1d431c",
   "metadata": {
    "tags": []
   },
   "outputs": [
    {
     "data": {
      "image/png": "[encoded data removed]",
      "text/plain": [
       "<PIL.Image.Image image mode=L size=93x20>"
      ]
     },
     "execution_count": 318,
     "metadata": {},
     "output_type": "execute_result"
    }
   ],
   "source": [
    "aa = np.array(img)\n",
    "aa = np.rot90(aa, 0)\n",
    "Image.fromarray(aa)"
   ]
  },
  {
   "cell_type": "code",
   "execution_count": 2,
   "id": "1f521151-801b-4353-9b09-e4ed3a308e31",
   "metadata": {
    "tags": []
   },
   "outputs": [
    {
     "data": {
      "image/png": "[encoded data removed]",
      "text/plain": [
       "<PIL.Image.Image image mode=RGB size=64x40>"
      ]
     },
     "execution_count": 2,
     "metadata": {},
     "output_type": "execute_result"
    }
   ],
   "source": [
    "from utils import tool\n",
    "tool.make_text_img('aaaa', font)"
   ]
  },
  {
   "cell_type": "code",
   "execution_count": 3,
   "id": "023da662-6e80-489c-b35b-19a0a168826a",
   "metadata": {
    "tags": []
   },
   "outputs": [],
   "source": []
  },
  {
   "cell_type": "code",
   "execution_count": 1,
   "id": "e37e2a4f-59af-47f2-a07f-1e84c2e882e9",
   "metadata": {
    "tags": []
   },
   "outputs": [
    {
     "ename": "OSError",
     "evalue": "cannot open resource",
     "output_type": "error",
     "traceback": [
      "\u001b[1;31m---------------------------------------------------------------------------\u001b[0m",
      "\u001b[1;31mOSError\u001b[0m                                   Traceback (most recent call last)",
      "Cell \u001b[1;32mIn[1], line 6\u001b[0m\n\u001b[0;32m      4\u001b[0m ean \u001b[38;5;241m=\u001b[39m barcode\u001b[38;5;241m.\u001b[39mget(\u001b[38;5;124m\"\u001b[39m\u001b[38;5;124mgs1_128\u001b[39m\u001b[38;5;124m\"\u001b[39m, \u001b[38;5;124m'\u001b[39m\u001b[38;5;124mPR00012305110096150106254026\u001b[39m\u001b[38;5;124m'\u001b[39m, writer\u001b[38;5;241m=\u001b[39mImageWriter())\n\u001b[0;32m      5\u001b[0m options \u001b[38;5;241m=\u001b[39m {\u001b[38;5;124m'\u001b[39m\u001b[38;5;124mmodule_width\u001b[39m\u001b[38;5;124m'\u001b[39m: \u001b[38;5;241m0.4\u001b[39m, \u001b[38;5;124m'\u001b[39m\u001b[38;5;124mmodule_height\u001b[39m\u001b[38;5;124m'\u001b[39m: \u001b[38;5;241m10\u001b[39m}\n\u001b[1;32m----> 6\u001b[0m ean_img \u001b[38;5;241m=\u001b[39m \u001b[43mean\u001b[49m\u001b[38;5;241;43m.\u001b[39;49m\u001b[43mrender\u001b[49m\u001b[43m(\u001b[49m\u001b[43moptions\u001b[49m\u001b[43m)\u001b[49m\n\u001b[0;32m      7\u001b[0m ean_img\n",
      "File \u001b[1;32mc:\\_main\\___space2\\env\\weight_label_print\\lib\\site-packages\\barcode\\codex.py:251\u001b[0m, in \u001b[0;36mCode128.render\u001b[1;34m(self, writer_options, text)\u001b[0m\n\u001b[0;32m    249\u001b[0m options \u001b[38;5;241m=\u001b[39m {\u001b[38;5;124m\"\u001b[39m\u001b[38;5;124mmodule_width\u001b[39m\u001b[38;5;124m\"\u001b[39m: MIN_SIZE, \u001b[38;5;124m\"\u001b[39m\u001b[38;5;124mquiet_zone\u001b[39m\u001b[38;5;124m\"\u001b[39m: MIN_QUIET_ZONE}\n\u001b[0;32m    250\u001b[0m options\u001b[38;5;241m.\u001b[39mupdate(writer_options \u001b[38;5;129;01mor\u001b[39;00m {})\n\u001b[1;32m--> 251\u001b[0m \u001b[38;5;28;01mreturn\u001b[39;00m \u001b[38;5;28;43msuper\u001b[39;49m\u001b[43m(\u001b[49m\u001b[43m)\u001b[49m\u001b[38;5;241;43m.\u001b[39;49m\u001b[43mrender\u001b[49m\u001b[43m(\u001b[49m\u001b[43moptions\u001b[49m\u001b[43m,\u001b[49m\u001b[43m \u001b[49m\u001b[43mtext\u001b[49m\u001b[43m)\u001b[49m\n",
      "File \u001b[1;32mc:\\_main\\___space2\\env\\weight_label_print\\lib\\site-packages\\barcode\\base.py:105\u001b[0m, in \u001b[0;36mBarcode.render\u001b[1;34m(self, writer_options, text)\u001b[0m\n\u001b[0;32m    103\u001b[0m \u001b[38;5;28mself\u001b[39m\u001b[38;5;241m.\u001b[39mwriter\u001b[38;5;241m.\u001b[39mset_options(options)\n\u001b[0;32m    104\u001b[0m code \u001b[38;5;241m=\u001b[39m \u001b[38;5;28mself\u001b[39m\u001b[38;5;241m.\u001b[39mbuild()\n\u001b[1;32m--> 105\u001b[0m raw \u001b[38;5;241m=\u001b[39m \u001b[38;5;28;43mself\u001b[39;49m\u001b[38;5;241;43m.\u001b[39;49m\u001b[43mwriter\u001b[49m\u001b[38;5;241;43m.\u001b[39;49m\u001b[43mrender\u001b[49m\u001b[43m(\u001b[49m\u001b[43mcode\u001b[49m\u001b[43m)\u001b[49m\n\u001b[0;32m    106\u001b[0m \u001b[38;5;28;01mreturn\u001b[39;00m raw\n",
      "File \u001b[1;32mc:\\_main\\___space2\\env\\weight_label_print\\lib\\site-packages\\barcode\\writer.py:265\u001b[0m, in \u001b[0;36mBaseWriter.render\u001b[1;34m(self, code)\u001b[0m\n\u001b[0;32m    263\u001b[0m     \u001b[38;5;28;01melse\u001b[39;00m:\n\u001b[0;32m    264\u001b[0m         xpos \u001b[38;5;241m=\u001b[39m bxs\n\u001b[1;32m--> 265\u001b[0m     \u001b[38;5;28;43mself\u001b[39;49m\u001b[38;5;241;43m.\u001b[39;49m\u001b[43m_callbacks\u001b[49m\u001b[43m[\u001b[49m\u001b[38;5;124;43m\"\u001b[39;49m\u001b[38;5;124;43mpaint_text\u001b[39;49m\u001b[38;5;124;43m\"\u001b[39;49m\u001b[43m]\u001b[49m\u001b[43m(\u001b[49m\u001b[43mxpos\u001b[49m\u001b[43m,\u001b[49m\u001b[43m \u001b[49m\u001b[43mypos\u001b[49m\u001b[43m)\u001b[49m\n\u001b[0;32m    266\u001b[0m \u001b[38;5;28;01melse\u001b[39;00m:\n\u001b[0;32m    267\u001b[0m     \u001b[38;5;66;03m# Else, divide the ean into blocks and print each block\u001b[39;00m\n\u001b[0;32m    268\u001b[0m     \u001b[38;5;66;03m# in the expected position.\u001b[39;00m\n\u001b[0;32m    269\u001b[0m     text[\u001b[38;5;124m\"\u001b[39m\u001b[38;5;124mxpos\u001b[39m\u001b[38;5;124m\"\u001b[39m] \u001b[38;5;241m=\u001b[39m [bxs \u001b[38;5;241m-\u001b[39m \u001b[38;5;241m4\u001b[39m \u001b[38;5;241m*\u001b[39m \u001b[38;5;28mself\u001b[39m\u001b[38;5;241m.\u001b[39mmodule_width]\n",
      "File \u001b[1;32mc:\\_main\\___space2\\env\\weight_label_print\\lib\\site-packages\\barcode\\writer.py:439\u001b[0m, in \u001b[0;36mImageWriter._paint_text\u001b[1;34m(self, xpos, ypos)\u001b[0m\n\u001b[0;32m    437\u001b[0m \u001b[38;5;28;01mdef\u001b[39;00m \u001b[38;5;21m_paint_text\u001b[39m(\u001b[38;5;28mself\u001b[39m, xpos, ypos):\n\u001b[0;32m    438\u001b[0m     font_size \u001b[38;5;241m=\u001b[39m \u001b[38;5;28mint\u001b[39m(mm2px(pt2mm(\u001b[38;5;28mself\u001b[39m\u001b[38;5;241m.\u001b[39mfont_size), \u001b[38;5;28mself\u001b[39m\u001b[38;5;241m.\u001b[39mdpi))\n\u001b[1;32m--> 439\u001b[0m     font \u001b[38;5;241m=\u001b[39m \u001b[43mImageFont\u001b[49m\u001b[38;5;241;43m.\u001b[39;49m\u001b[43mtruetype\u001b[49m\u001b[43m(\u001b[49m\u001b[38;5;28;43mself\u001b[39;49m\u001b[38;5;241;43m.\u001b[39;49m\u001b[43mfont_path\u001b[49m\u001b[43m,\u001b[49m\u001b[43m \u001b[49m\u001b[43mfont_size\u001b[49m\u001b[43m)\u001b[49m\n\u001b[0;32m    440\u001b[0m     \u001b[38;5;28;01mfor\u001b[39;00m subtext \u001b[38;5;129;01min\u001b[39;00m \u001b[38;5;28mself\u001b[39m\u001b[38;5;241m.\u001b[39mtext\u001b[38;5;241m.\u001b[39msplit(\u001b[38;5;124m\"\u001b[39m\u001b[38;5;130;01m\\n\u001b[39;00m\u001b[38;5;124m\"\u001b[39m):\n\u001b[0;32m    441\u001b[0m         width, height \u001b[38;5;241m=\u001b[39m font\u001b[38;5;241m.\u001b[39mgetsize(subtext)\n",
      "File \u001b[1;32mc:\\_main\\___space2\\env\\weight_label_print\\lib\\site-packages\\PIL\\ImageFont.py:996\u001b[0m, in \u001b[0;36mtruetype\u001b[1;34m(font, size, index, encoding, layout_engine)\u001b[0m\n\u001b[0;32m    993\u001b[0m     \u001b[38;5;28;01mreturn\u001b[39;00m FreeTypeFont(font, size, index, encoding, layout_engine)\n\u001b[0;32m    995\u001b[0m \u001b[38;5;28;01mtry\u001b[39;00m:\n\u001b[1;32m--> 996\u001b[0m     \u001b[38;5;28;01mreturn\u001b[39;00m \u001b[43mfreetype\u001b[49m\u001b[43m(\u001b[49m\u001b[43mfont\u001b[49m\u001b[43m)\u001b[49m\n\u001b[0;32m    997\u001b[0m \u001b[38;5;28;01mexcept\u001b[39;00m \u001b[38;5;167;01mOSError\u001b[39;00m:\n\u001b[0;32m    998\u001b[0m     \u001b[38;5;28;01mif\u001b[39;00m \u001b[38;5;129;01mnot\u001b[39;00m is_path(font):\n",
      "File \u001b[1;32mc:\\_main\\___space2\\env\\weight_label_print\\lib\\site-packages\\PIL\\ImageFont.py:993\u001b[0m, in \u001b[0;36mtruetype.<locals>.freetype\u001b[1;34m(font)\u001b[0m\n\u001b[0;32m    992\u001b[0m \u001b[38;5;28;01mdef\u001b[39;00m \u001b[38;5;21mfreetype\u001b[39m(font):\n\u001b[1;32m--> 993\u001b[0m     \u001b[38;5;28;01mreturn\u001b[39;00m \u001b[43mFreeTypeFont\u001b[49m\u001b[43m(\u001b[49m\u001b[43mfont\u001b[49m\u001b[43m,\u001b[49m\u001b[43m \u001b[49m\u001b[43msize\u001b[49m\u001b[43m,\u001b[49m\u001b[43m \u001b[49m\u001b[43mindex\u001b[49m\u001b[43m,\u001b[49m\u001b[43m \u001b[49m\u001b[43mencoding\u001b[49m\u001b[43m,\u001b[49m\u001b[43m \u001b[49m\u001b[43mlayout_engine\u001b[49m\u001b[43m)\u001b[49m\n",
      "File \u001b[1;32mc:\\_main\\___space2\\env\\weight_label_print\\lib\\site-packages\\PIL\\ImageFont.py:248\u001b[0m, in \u001b[0;36mFreeTypeFont.__init__\u001b[1;34m(self, font, size, index, encoding, layout_engine)\u001b[0m\n\u001b[0;32m    246\u001b[0m                 load_from_bytes(f)\n\u001b[0;32m    247\u001b[0m             \u001b[38;5;28;01mreturn\u001b[39;00m\n\u001b[1;32m--> 248\u001b[0m     \u001b[38;5;28mself\u001b[39m\u001b[38;5;241m.\u001b[39mfont \u001b[38;5;241m=\u001b[39m \u001b[43mcore\u001b[49m\u001b[38;5;241;43m.\u001b[39;49m\u001b[43mgetfont\u001b[49m\u001b[43m(\u001b[49m\n\u001b[0;32m    249\u001b[0m \u001b[43m        \u001b[49m\u001b[43mfont\u001b[49m\u001b[43m,\u001b[49m\u001b[43m \u001b[49m\u001b[43msize\u001b[49m\u001b[43m,\u001b[49m\u001b[43m \u001b[49m\u001b[43mindex\u001b[49m\u001b[43m,\u001b[49m\u001b[43m \u001b[49m\u001b[43mencoding\u001b[49m\u001b[43m,\u001b[49m\u001b[43m \u001b[49m\u001b[43mlayout_engine\u001b[49m\u001b[38;5;241;43m=\u001b[39;49m\u001b[43mlayout_engine\u001b[49m\n\u001b[0;32m    250\u001b[0m \u001b[43m    \u001b[49m\u001b[43m)\u001b[49m\n\u001b[0;32m    251\u001b[0m \u001b[38;5;28;01melse\u001b[39;00m:\n\u001b[0;32m    252\u001b[0m     load_from_bytes(font)\n",
      "\u001b[1;31mOSError\u001b[0m: cannot open resource"
     ]
    }
   ],
   "source": [
    "from barcode.writer import ImageWriter\n",
    "import barcode\n",
    "\n",
    "ean = barcode.get(\"gs1_128\", 'PR00012305110096150106254026', writer=ImageWriter())\n",
    "options = {'module_width': 0.4, 'module_height': 10}\n",
    "ean_img = ean.render(options)\n",
    "ean_img"
   ]
  },
  {
   "cell_type": "code",
   "execution_count": null,
   "id": "bef5709b-556e-46b5-9ee5-e083bda72c81",
   "metadata": {},
   "outputs": [],
   "source": []
  },
  {
   "cell_type": "code",
   "execution_count": 8,
   "id": "77a8ba25-400b-4328-9a59-6a99b56d846e",
   "metadata": {
    "tags": []
   },
   "outputs": [
    {
     "data": {
      "image/png": "[encoded data removed]",
      "text/plain": [
       "<PIL.Image.Image image mode=RGB size=1341x221>"
      ]
     },
     "execution_count": 8,
     "metadata": {},
     "output_type": "execute_result"
    }
   ],
   "source": [
    "from barcode.writer import ImageWriter\n",
    "import barcode\n",
    "\n",
    "# ean = barcode.get(\"gs1_128\", 'L12301305239001', writer=ImageWriter(font_path='./temp/_NanumGothic.ttf'))\n",
    "ean = barcode.get(\"gs1_128\", 'PNE009000137263901L123060852390010415', writer=ImageWriter(font_path='./temp/_NanumGothic.ttf'))\n",
    "# options = {'module_width': 0.45, 'module_height': 17}\n",
    "options = {'module_width': 0.35, 'module_height': 10}\n",
    "ean_img = ean.render(options)\n",
    "ean_img"
   ]
  },
  {
   "cell_type": "code",
   "execution_count": 301,
   "id": "0e62eb4b-008a-4236-9e11-591e6d44daf4",
   "metadata": {
    "collapsed": true,
    "jupyter": {
     "outputs_hidden": true
    },
    "tags": []
   },
   "outputs": [
    {
     "data": {
      "text/plain": [
       "{'제품명': array([[ 310.3158 ,  370.5263 ],\n",
       "        [2028.7368 ,  494.21054]], dtype=float32),\n",
       " '품목제조번호': array([[ 636.6316,  512.6316],\n",
       "        [2026.1052,  567.8947]], dtype=float32),\n",
       " '부위명': array([[320.8421, 646.8421],\n",
       "        [815.5789, 752.1053]], dtype=float32),\n",
       " '중량': array([[299.78946, 838.9474 ],\n",
       "        [852.4211 , 925.7895 ]], dtype=float32),\n",
       " '제조일자': array([[ 297.1579,  962.6316],\n",
       "        [ 857.6842, 1049.4736]], dtype=float32),\n",
       " '유통기한': array([[ 294.5263, 1088.9474],\n",
       "        [ 860.3158, 1181.0526]], dtype=float32),\n",
       " '도축장': array([[ 291.89474, 1215.2632 ],\n",
       "        [ 862.9474 , 1315.2632 ]], dtype=float32),\n",
       " '원산지': array([[ 294.5263, 1344.2106],\n",
       "        [ 862.9474, 1444.2106]], dtype=float32),\n",
       " '보관방법': array([[ 291.89474, 1467.8948 ],\n",
       "        [ 862.9474 , 1578.421  ]], dtype=float32),\n",
       " '이력묶음번호': array([[  34.    , 1741.579 ],\n",
       "        [ 847.1579, 2025.7894]], dtype=float32),\n",
       " '바코드1': array([[ 984.    ,  714.2683],\n",
       "        [1286.439 , 1841.0975]], dtype=float32),\n",
       " '바코드2': array([[1357.1708 ,  716.70734],\n",
       "        [1659.6097 , 1843.5366 ]], dtype=float32),\n",
       " '바코드3': array([[1713.2683 ,  716.70734],\n",
       "        [2003.5122 , 1843.5366 ]], dtype=float32)}"
      ]
     },
     "execution_count": 301,
     "metadata": {},
     "output_type": "execute_result"
    }
   ],
   "source": [
    "import json\n",
    "import numpy as np\n",
    "\n",
    "def json2label(path, return_dic=True): # json 경로\n",
    "    with open(path, \"r\", encoding=\"utf-8\") as f:\n",
    "        data = json.load(f)\n",
    "    labels = [shape[\"label\"] for shape in data[\"shapes\"]]\n",
    "    points = np.float32([shape[\"points\"] for shape in data[\"shapes\"]]) # (n, 2?, 2)\n",
    "    if return_dic:\n",
    "        return dict(zip(labels, points))\n",
    "    else:\n",
    "        return labels, points\n",
    "    \n",
    "dic = json2label('./resource/라벨지 양식.json')\n",
    "dic"
   ]
  },
  {
   "cell_type": "code",
   "execution_count": 1,
   "id": "edcdcb69-7e82-47be-9871-48c8c1681d0e",
   "metadata": {
    "tags": []
   },
   "outputs": [],
   "source": []
  },
  {
   "cell_type": "code",
   "execution_count": 3,
   "id": "192e8c37-67fd-4250-bebc-b33c259a9c6d",
   "metadata": {},
   "outputs": [
    {
     "data": {
      "image/png": "[encoded data removed]",
      "text/plain": [
       "<PIL.Image.Image image mode=RGB size=500x500>"
      ]
     },
     "execution_count": 3,
     "metadata": {},
     "output_type": "execute_result"
    }
   ],
   "source": [
    "from utils.paper import PaperManager\n",
    "\n",
    "code_str = '123456789012345678901234578901234567'\n",
    "# code_str = '123456789012345678901234578'\n",
    "\n",
    "img_path = \"./resource/label.png\"\n",
    "json_path = \"./resource/label.json\"\n",
    "font_path = \"./resource/NanumGothic.ttf\"\n",
    "paper_mng = PaperManager(img_path, json_path, font_path)\n",
    "\n",
    "paper_mng.reset()\n",
    "options = {'module_width': 0.4, 'module_height': 10}\n",
    "paper_mng.attach(\"PA00292306150001370107634552\", \"바코드1\", barcode=True, rotate_num=3, options=options)\n",
    "options = {'module_width': 0.3, 'module_height': 10}\n",
    "paper_mng.attach(\"PNE009000137263901L123060852390010415\", \"바코드2\", barcode=True, rotate_num=3, options=options)\n",
    "paper_mng.attach(\"PNE008000137263901L123060852390010415\", \"바코드3\", barcode=True, rotate_num=3, options=options)\n",
    "paper_mng.attach(\"PNE007000137263901L123060852390010415\", \"바코드4\", barcode=True, rotate_num=3, options=options)\n",
    "# paper_mng.attach(None, \"유통기한\", barcode=False)\n",
    "\n",
    "img = paper_mng.get_img()\n",
    "img.resize((500, 500))"
   ]
  },
  {
   "cell_type": "code",
   "execution_count": null,
   "id": "d1615e3c-f423-4ab8-854b-274b48e36ff9",
   "metadata": {},
   "outputs": [],
   "source": []
  },
  {
   "cell_type": "code",
   "execution_count": 12,
   "id": "8179d804-9b4d-49b2-aa54-1ff5d52b9653",
   "metadata": {
    "tags": []
   },
   "outputs": [
    {
     "name": "stderr",
     "output_type": "stream",
     "text": [
      "C:\\Users\\RORO\\AppData\\Local\\Temp\\ipykernel_23140\\288728770.py:16: UserWarning: pandas only supports SQLAlchemy connectable (engine/connection) or database string URI or sqlite3 DBAPI2 connection. Other DBAPI2 objects are not tested. Please consider using SQLAlchemy.\n",
      "  df = pd.read_sql(sql, db_con)\n"
     ]
    }
   ],
   "source": [
    "from utils.crypto import glance\n",
    "import pymysql\n",
    "import os\n",
    "import pandas as pd\n",
    "import json\n",
    "\n",
    "db_info_dir = \"../DB_pair/paeckdu/smhDev02\"\n",
    "db_info_path = os.path.join(db_info_dir, \"db_info.txt\")\n",
    "key_path = os.path.join(db_info_dir, \"key.txt\")\n",
    "sql = \"select * from tb_mes_skrg300 where BUNDLE_DT=curdate();\"\n",
    "\n",
    "db_info_str = glance(db_info_path, key_path)\n",
    "db_info_dic = json.loads(db_info_str)\n",
    "db_con = pymysql.connect(**db_info_dic, charset='utf8', autocommit=True)\n",
    "\n",
    "df = pd.read_sql(sql, db_con)"
   ]
  },
  {
   "cell_type": "code",
   "execution_count": 14,
   "id": "39449006-56b1-4306-847a-31f55eb0a5ed",
   "metadata": {
    "tags": []
   },
   "outputs": [],
   "source": [
    "df.loc['temp', 'COMPANY'] = '1001'"
   ]
  },
  {
   "cell_type": "code",
   "execution_count": 15,
   "id": "b05fcf95-b327-4a84-8a0b-a92231d9556e",
   "metadata": {
    "tags": []
   },
   "outputs": [
    {
     "data": {
      "text/html": [
       "<div>\n",
       "<style scoped>\n",
       "    .dataframe tbody tr th:only-of-type {\n",
       "        vertical-align: middle;\n",
       "    }\n",
       "\n",
       "    .dataframe tbody tr th {\n",
       "        vertical-align: top;\n",
       "    }\n",
       "\n",
       "    .dataframe thead th {\n",
       "        text-align: right;\n",
       "    }\n",
       "</style>\n",
       "<table border=\"1\" class=\"dataframe\">\n",
       "  <thead>\n",
       "    <tr style=\"text-align: right;\">\n",
       "      <th></th>\n",
       "      <th>COMPANY</th>\n",
       "      <th>BUNDLE_DT</th>\n",
       "      <th>BUNDLE_SEQ</th>\n",
       "      <th>ITEM_CD</th>\n",
       "      <th>BUNDLE_NO</th>\n",
       "      <th>CALL_CD</th>\n",
       "      <th>GRADE_CD</th>\n",
       "      <th>HEADS_CNT</th>\n",
       "      <th>RE_BUNDLE_YN</th>\n",
       "      <th>STOCK_CD</th>\n",
       "      <th>WEIGHT</th>\n",
       "      <th>REG_YN</th>\n",
       "      <th>CREATED_AT</th>\n",
       "      <th>CREATED_BY</th>\n",
       "      <th>UPDATED_AT</th>\n",
       "      <th>UPDATED_BY</th>\n",
       "      <th>BUTCHERY_CD</th>\n",
       "      <th>BUTCHERY_NM</th>\n",
       "    </tr>\n",
       "  </thead>\n",
       "  <tbody>\n",
       "    <tr>\n",
       "      <th>0</th>\n",
       "      <td>1000</td>\n",
       "      <td>2023-06-08</td>\n",
       "      <td>1.0</td>\n",
       "      <td>None</td>\n",
       "      <td>L12345678901234</td>\n",
       "      <td>None</td>\n",
       "      <td>None</td>\n",
       "      <td>None</td>\n",
       "      <td>None</td>\n",
       "      <td>None</td>\n",
       "      <td>None</td>\n",
       "      <td>None</td>\n",
       "      <td>None</td>\n",
       "      <td>None</td>\n",
       "      <td>None</td>\n",
       "      <td>None</td>\n",
       "      <td>None</td>\n",
       "      <td>None</td>\n",
       "    </tr>\n",
       "    <tr>\n",
       "      <th>1</th>\n",
       "      <td>1000</td>\n",
       "      <td>2023-06-08</td>\n",
       "      <td>2.0</td>\n",
       "      <td>None</td>\n",
       "      <td>L12345671234567</td>\n",
       "      <td>None</td>\n",
       "      <td>None</td>\n",
       "      <td>None</td>\n",
       "      <td>None</td>\n",
       "      <td>None</td>\n",
       "      <td>None</td>\n",
       "      <td>None</td>\n",
       "      <td>None</td>\n",
       "      <td>None</td>\n",
       "      <td>None</td>\n",
       "      <td>None</td>\n",
       "      <td>None</td>\n",
       "      <td>None</td>\n",
       "    </tr>\n",
       "    <tr>\n",
       "      <th>temp</th>\n",
       "      <td>1001</td>\n",
       "      <td>NaN</td>\n",
       "      <td>NaN</td>\n",
       "      <td>NaN</td>\n",
       "      <td>NaN</td>\n",
       "      <td>NaN</td>\n",
       "      <td>NaN</td>\n",
       "      <td>NaN</td>\n",
       "      <td>NaN</td>\n",
       "      <td>NaN</td>\n",
       "      <td>NaN</td>\n",
       "      <td>NaN</td>\n",
       "      <td>NaN</td>\n",
       "      <td>NaN</td>\n",
       "      <td>NaN</td>\n",
       "      <td>NaN</td>\n",
       "      <td>NaN</td>\n",
       "      <td>NaN</td>\n",
       "    </tr>\n",
       "  </tbody>\n",
       "</table>\n",
       "</div>"
      ],
      "text/plain": [
       "     COMPANY   BUNDLE_DT  BUNDLE_SEQ ITEM_CD        BUNDLE_NO CALL_CD   \n",
       "0       1000  2023-06-08         1.0    None  L12345678901234    None  \\\n",
       "1       1000  2023-06-08         2.0    None  L12345671234567    None   \n",
       "temp    1001         NaN         NaN     NaN              NaN     NaN   \n",
       "\n",
       "     GRADE_CD HEADS_CNT RE_BUNDLE_YN STOCK_CD WEIGHT REG_YN CREATED_AT   \n",
       "0        None      None         None     None   None   None       None  \\\n",
       "1        None      None         None     None   None   None       None   \n",
       "temp      NaN       NaN          NaN      NaN    NaN    NaN        NaN   \n",
       "\n",
       "     CREATED_BY UPDATED_AT UPDATED_BY BUTCHERY_CD BUTCHERY_NM  \n",
       "0          None       None       None        None        None  \n",
       "1          None       None       None        None        None  \n",
       "temp        NaN        NaN        NaN         NaN         NaN  "
      ]
     },
     "execution_count": 15,
     "metadata": {},
     "output_type": "execute_result"
    }
   ],
   "source": [
    "df"
   ]
  },
  {
   "cell_type": "code",
   "execution_count": null,
   "id": "b9377a4d-dcd3-4f72-9854-86272fdde9a7",
   "metadata": {},
   "outputs": [],
   "source": []
  },
  {
   "cell_type": "code",
   "execution_count": 294,
   "id": "eb57af55-74ff-4328-b8f2-2d96c9a1e2c1",
   "metadata": {
    "tags": []
   },
   "outputs": [
    {
     "name": "stdout",
     "output_type": "stream",
     "text": [
      "__new__ is called\n",
      "\n",
      "__init__ is called\n",
      "\n"
     ]
    }
   ],
   "source": [
    "class Singleton(object):\n",
    "    def __new__(cls, *args, **kwargs):\n",
    "        if not hasattr(cls, \"_instance\"):         # Foo 클래스 객체에 _instance 속성이 없다면\n",
    "            print(\"__new__ is called\\n\")\n",
    "            cls._instance = super().__new__(cls)  # Foo 클래스의 객체를 생성하고 Foo._instance로 바인딩\n",
    "        return cls._instance                      # Foo._instance를 리턴\n",
    "\n",
    "    def __init__(self, data):\n",
    "        cls = type(self)\n",
    "        if not hasattr(cls, \"_init\"):             # Foo 클래스 객체에 _init 속성이 없다면\n",
    "            print(\"__init__ is called\\n\")\n",
    "            self.data = data\n",
    "            cls._init = None\n",
    "            \n",
    "            \n",
    "s1 = Singleton(3)\n",
    "s2 = Singleton(4)\n",
    "# print(s1.data)\n",
    "# print(s2.data)"
   ]
  },
  {
   "cell_type": "code",
   "execution_count": 291,
   "id": "fcc069c5-839c-4dd9-89c7-5c22ca816fab",
   "metadata": {
    "tags": []
   },
   "outputs": [
    {
     "data": {
      "text/plain": [
       "__main__.Singleton"
      ]
     },
     "execution_count": 291,
     "metadata": {},
     "output_type": "execute_result"
    }
   ],
   "source": [
    "type(s2)"
   ]
  },
  {
   "cell_type": "code",
   "execution_count": 293,
   "id": "bdbdfa3d-e815-44f8-bd77-96f22083a946",
   "metadata": {
    "tags": []
   },
   "outputs": [
    {
     "data": {
      "text/plain": [
       "True"
      ]
     },
     "execution_count": 293,
     "metadata": {},
     "output_type": "execute_result"
    }
   ],
   "source": [
    "hasattr(type(s2), \"_init\")"
   ]
  },
  {
   "cell_type": "code",
   "execution_count": 286,
   "id": "30c17ed4-ce0d-4f68-8022-334f75f21e07",
   "metadata": {
    "tags": []
   },
   "outputs": [],
   "source": [
    "s2 = Singleton(4)"
   ]
  },
  {
   "cell_type": "code",
   "execution_count": null,
   "id": "bdfa52db-529b-4402-923e-5acd66cc7bca",
   "metadata": {},
   "outputs": [],
   "source": []
  },
  {
   "cell_type": "code",
   "execution_count": null,
   "id": "994d176e-d2b6-4fe9-a4c5-f42695e615d9",
   "metadata": {},
   "outputs": [],
   "source": []
  },
  {
   "cell_type": "code",
   "execution_count": null,
   "id": "21088ae9-10e3-4d74-a47a-efba0e1a2a09",
   "metadata": {},
   "outputs": [],
   "source": []
  },
  {
   "cell_type": "code",
   "execution_count": null,
   "id": "271a068c-86e8-4b88-bace-528df526566d",
   "metadata": {},
   "outputs": [],
   "source": []
  },
  {
   "cell_type": "code",
   "execution_count": 8,
   "id": "8f9b36b4-2394-4c1b-8255-caf3f0293122",
   "metadata": {
    "tags": []
   },
   "outputs": [
    {
     "data": {
      "text/plain": [
       "['0.00']"
      ]
     },
     "execution_count": 8,
     "metadata": {},
     "output_type": "execute_result"
    }
   ],
   "source": [
    "import re\n",
    "\n",
    "\n",
    "re.findall(\"\\d+\\.\\d+\", \"ST,NT, �,    0.00 kg\")"
   ]
  },
  {
   "cell_type": "code",
   "execution_count": null,
   "id": "8da6198d-6b1b-4f03-bdf9-962dcf3a8a2b",
   "metadata": {},
   "outputs": [],
   "source": [
    "re.findall(\"\\d+\\.\\d+\", \"test34.25test\\n\")"
   ]
  },
  {
   "cell_type": "code",
   "execution_count": 22,
   "id": "87e7c9d0-e43a-4179-a368-9a3c4418a4ea",
   "metadata": {
    "tags": []
   },
   "outputs": [
    {
     "data": {
      "text/plain": [
       "'000000test'"
      ]
     },
     "execution_count": 22,
     "metadata": {},
     "output_type": "execute_result"
    }
   ],
   "source": [
    "aa = 'test'\n",
    "\n",
    "f'{aa:0>10}'"
   ]
  },
  {
   "cell_type": "code",
   "execution_count": 30,
   "id": "bb415c2c-f01e-4bd8-b0b1-2c85b494f160",
   "metadata": {
    "tags": []
   },
   "outputs": [
    {
     "data": {
      "text/plain": [
       "'01000000000PR00111231231310200888821345'"
      ]
     },
     "execution_count": 30,
     "metadata": {},
     "output_type": "execute_result"
    }
   ],
   "source": [
    "a1 = 'PR001'\n",
    "a2 = '231231'\n",
    "a3 = '8888'\n",
    "a4 = '345'\n",
    "\n",
    "item_cd_ai = '01'\n",
    "today_ai = '11'\n",
    "weight_ai = '3102'\n",
    "unique_ai = '21'\n",
    "\n",
    "code = f'{item_cd_ai}{a1:0>14}{today_ai}{a2:0>6}{weight_ai}{a3:0>6}{unique_ai}{a4:0>2}'\n",
    "code"
   ]
  },
  {
   "cell_type": "code",
   "execution_count": 31,
   "id": "fa07c71d-b6aa-4b0f-bdf6-6492d21c5627",
   "metadata": {
    "tags": []
   },
   "outputs": [
    {
     "data": {
      "text/plain": [
       "39"
      ]
     },
     "execution_count": 31,
     "metadata": {},
     "output_type": "execute_result"
    }
   ],
   "source": [
    "len(code)"
   ]
  },
  {
   "cell_type": "code",
   "execution_count": 49,
   "id": "701f72ad-722e-4a28-8448-c4b19dc008c6",
   "metadata": {
    "tags": []
   },
   "outputs": [],
   "source": [
    "from functools import reduce\n",
    "\n",
    "ss = '88001234560016'\n",
    "tot = 0\n",
    "for i, v in enumerate(ss[-2::-1]):\n",
    "    tot += int(v)*3 if i%2 == 0 else int(v)"
   ]
  },
  {
   "cell_type": "code",
   "execution_count": 42,
   "id": "249af1fe-88fa-4957-8653-b89aede978d0",
   "metadata": {
    "tags": []
   },
   "outputs": [
    {
     "data": {
      "text/plain": [
       "'1006543210088'"
      ]
     },
     "execution_count": 42,
     "metadata": {},
     "output_type": "execute_result"
    }
   ],
   "source": [
    "ss = '88001234560016'\n",
    "ss[-2::-1]"
   ]
  },
  {
   "cell_type": "code",
   "execution_count": 50,
   "id": "29d6fba2-b9cf-4bab-a7a5-063d7d477e6b",
   "metadata": {
    "tags": []
   },
   "outputs": [
    {
     "data": {
      "text/plain": [
       "4"
      ]
     },
     "execution_count": 50,
     "metadata": {},
     "output_type": "execute_result"
    }
   ],
   "source": [
    "tot % 10"
   ]
  },
  {
   "cell_type": "code",
   "execution_count": 53,
   "id": "bc067756-3117-4a1f-98dd-ae7483acdd06",
   "metadata": {
    "tags": []
   },
   "outputs": [
    {
     "data": {
      "text/plain": [
       "6"
      ]
     },
     "execution_count": 53,
     "metadata": {},
     "output_type": "execute_result"
    }
   ],
   "source": [
    "-tot%10"
   ]
  },
  {
   "cell_type": "code",
   "execution_count": 60,
   "id": "ccb56de5-6e1c-40d8-a2c9-2d06f7b7ee87",
   "metadata": {
    "tags": []
   },
   "outputs": [
    {
     "data": {
      "text/plain": [
       "'00000000000000000123'"
      ]
     },
     "execution_count": 60,
     "metadata": {},
     "output_type": "execute_result"
    }
   ],
   "source": [
    "\"{a:0>{bb}}\".format(a=123, bb=20)"
   ]
  },
  {
   "cell_type": "code",
   "execution_count": 259,
   "id": "6c1d1993-5801-4401-941f-03ff252509e2",
   "metadata": {
    "tags": []
   },
   "outputs": [
    {
     "data": {
      "text/plain": [
       "1"
      ]
     },
     "execution_count": 259,
     "metadata": {},
     "output_type": "execute_result"
    }
   ],
   "source": [
    "from collections import Counter\n",
    "import numpy as np\n",
    "from tqdm import tqdm\n",
    "\n",
    "cnt = 0\n",
    "for _ in range(365*5):\n",
    "    aa = Counter(np.random.randint(0, 10**8, size=500)).values()\n",
    "    if len(Counter(aa)) == 2:\n",
    "        cnt += 1\n",
    "cnt"
   ]
  },
  {
   "cell_type": "code",
   "execution_count": 269,
   "id": "aef018bb-0529-4622-baeb-40e6a04e9d1a",
   "metadata": {
    "tags": []
   },
   "outputs": [
    {
     "data": {
      "text/plain": [
       "'12332'"
      ]
     },
     "execution_count": 269,
     "metadata": {},
     "output_type": "execute_result"
    }
   ],
   "source": [
    "import re\n",
    "\n",
    "re.sub('\\-', '', '---123-32')"
   ]
  },
  {
   "cell_type": "code",
   "execution_count": 278,
   "id": "8e78b77e-9781-4031-a15d-ef7ca0cf33bc",
   "metadata": {
    "tags": []
   },
   "outputs": [
    {
     "data": {
      "text/plain": [
       "123"
      ]
     },
     "execution_count": 278,
     "metadata": {},
     "output_type": "execute_result"
    }
   ],
   "source": [
    "from collections import defaultdict as ddict\n",
    "\n",
    "ddict(lambda:1, {\"a\":123, \"b\":234})['a']"
   ]
  },
  {
   "cell_type": "code",
   "execution_count": 63,
   "id": "931543c5-3e10-4680-871e-c329038901f1",
   "metadata": {
    "tags": []
   },
   "outputs": [
    {
     "data": {
      "text/plain": [
       "{'sscc': '00{sscc:0>18}',\n",
       " 'gtin': '01{gtin:0>14}',\n",
       " 'luapic': '02{luapic:0>14}',\n",
       " 'lot': '10{lot:0>{len_lot}}',\n",
       " 'pdate': '11{pdate:0>6}',\n",
       " 'odate': '15{odate:0>6}',\n",
       " 'sdate': '16{sdate:0>6}',\n",
       " 'edate': '17{edate:0>6}',\n",
       " 'serial': '21{serial:0>{len_serial}}',\n",
       " 'weight': '310{pos}{weight:0>6}',\n",
       " 'pqoblu': '37{pqoblu:0>{len_pqoblu}}',\n",
       " 'pay': '390{pay:0>{len_pay}}',\n",
       " 'ginc': '401{ginc:0>{len_ginc}}',\n",
       " 'post': '420{post:0>{len_post}}'}"
      ]
     },
     "execution_count": 63,
     "metadata": {},
     "output_type": "execute_result"
    }
   ],
   "source": [
    "from utils.maker import CodeMaker as CM\n",
    "\n",
    "CM.ai_dic"
   ]
  },
  {
   "cell_type": "code",
   "execution_count": 84,
   "id": "c4fa0800-d98f-4f63-a451-9f4c4522839a",
   "metadata": {
    "tags": []
   },
   "outputs": [
    {
     "data": {
      "text/plain": [
       "'01088000100000121123010131020066152100999'"
      ]
     },
     "execution_count": 84,
     "metadata": {},
     "output_type": "execute_result"
    }
   ],
   "source": [
    "gtin_code = CM.get_gtin()\n",
    "\n",
    "keys = ['gtin', 'pdate', 'weight', 'serial']\n",
    "data_dic = {'gtin':gtin_code, 'pdate':'230101', 'weight':'6615', 'pos':2, 'serial':999, 'len_serial':5}\n",
    "code = CM.combi_with_ai(keys, data_dic)\n",
    "code"
   ]
  },
  {
   "cell_type": "code",
   "execution_count": 85,
   "id": "c3349173-3f84-4c35-87f9-d04a00d0507d",
   "metadata": {
    "tags": []
   },
   "outputs": [
    {
     "data": {
      "text/plain": [
       "41"
      ]
     },
     "execution_count": 85,
     "metadata": {},
     "output_type": "execute_result"
    }
   ],
   "source": [
    "len(code)"
   ]
  },
  {
   "cell_type": "code",
   "execution_count": 81,
   "id": "935b1771-4bbc-48ba-b837-cb4ab6e77cda",
   "metadata": {
    "tags": []
   },
   "outputs": [
    {
     "name": "stdout",
     "output_type": "stream",
     "text": [
      "000000가나다라\n",
      "　　　　　　가나다라\n",
      "　　　　　　　가나다\n",
      "　　　　가나다123\n"
     ]
    }
   ],
   "source": [
    "aa = '가나다라'\n",
    "bb = '가나다'\n",
    "cc = '가나다123'\n",
    "t = '　'\n",
    "\n",
    "print(f\"{aa:{0}>10}\")\n",
    "print(f\"{aa:{t}>10}\")\n",
    "print(f\"{bb:{t}>10}\")\n",
    "print(f\"{cc:{t}>10}\")"
   ]
  },
  {
   "cell_type": "code",
   "execution_count": null,
   "id": "4a1d7204-c702-4a06-ad2f-6092e9fe15ea",
   "metadata": {},
   "outputs": [],
   "source": []
  },
  {
   "cell_type": "code",
   "execution_count": null,
   "id": "c51bd282-15d3-46ea-9303-feac5679d050",
   "metadata": {},
   "outputs": [],
   "source": []
  },
  {
   "cell_type": "code",
   "execution_count": null,
   "id": "768bfe49-e909-4972-b68c-9dbd1e90bcba",
   "metadata": {},
   "outputs": [],
   "source": []
  },
  {
   "cell_type": "code",
   "execution_count": null,
   "id": "930fe4cd-e609-4c5e-b0a5-a37fb91ff9f7",
   "metadata": {},
   "outputs": [],
   "source": []
  },
  {
   "cell_type": "code",
   "execution_count": 5,
   "id": "5afe283e-c590-44e3-905f-e57b8a2b32b2",
   "metadata": {
    "tags": []
   },
   "outputs": [
    {
     "name": "stdout",
     "output_type": "stream",
     "text": [
      "1.246260404586792\n"
     ]
    }
   ],
   "source": [
    "import os\n",
    "import time\n",
    "\n",
    "start = time.time()\n",
    "\n",
    "for i in range(10000):\n",
    "    with open(os.path.join('source', 'sql', 'table1', \"select.txt\"), 'r') as f:\n",
    "        select_sql = f.read()\n",
    "        \n",
    "end = time.time()\n",
    "\n",
    "print(end-start)"
   ]
  },
  {
   "cell_type": "code",
   "execution_count": null,
   "id": "8516e28a-0074-41e6-8f8a-52287894f4a5",
   "metadata": {},
   "outputs": [],
   "source": []
  },
  {
   "cell_type": "code",
   "execution_count": 49,
   "id": "449aad17-a2ad-4500-b542-b830e1cae847",
   "metadata": {
    "tags": []
   },
   "outputs": [
    {
     "data": {
      "text/html": [
       "<div>\n",
       "<style scoped>\n",
       "    .dataframe tbody tr th:only-of-type {\n",
       "        vertical-align: middle;\n",
       "    }\n",
       "\n",
       "    .dataframe tbody tr th {\n",
       "        vertical-align: top;\n",
       "    }\n",
       "\n",
       "    .dataframe thead th {\n",
       "        text-align: right;\n",
       "    }\n",
       "</style>\n",
       "<table border=\"1\" class=\"dataframe\">\n",
       "  <thead>\n",
       "    <tr style=\"text-align: right;\">\n",
       "      <th></th>\n",
       "      <th>a</th>\n",
       "      <th>b</th>\n",
       "      <th>c</th>\n",
       "    </tr>\n",
       "  </thead>\n",
       "  <tbody>\n",
       "    <tr>\n",
       "      <th>0</th>\n",
       "      <td>1</td>\n",
       "      <td>2</td>\n",
       "      <td>3</td>\n",
       "    </tr>\n",
       "  </tbody>\n",
       "</table>\n",
       "</div>"
      ],
      "text/plain": [
       "   a  b  c\n",
       "0  1  2  3"
      ]
     },
     "execution_count": 49,
     "metadata": {},
     "output_type": "execute_result"
    }
   ],
   "source": [
    "import pandas as pd\n",
    "\n",
    "aa = pd.DataFrame([[1,2,3]], columns=['a','b','c'])\n",
    "aa"
   ]
  },
  {
   "cell_type": "code",
   "execution_count": null,
   "id": "fcdc1690-6103-4f37-8a21-d2b5ce169bb3",
   "metadata": {
    "tags": []
   },
   "outputs": [],
   "source": [
    "aa.rename(columns={'A':'A'}, inplace=True)"
   ]
  },
  {
   "cell_type": "code",
   "execution_count": null,
   "id": "edc59e51-5d69-4f79-b34e-c21777c52137",
   "metadata": {},
   "outputs": [],
   "source": []
  },
  {
   "cell_type": "code",
   "execution_count": 18,
   "id": "69162e73-b659-446a-9f04-d11ea40392c6",
   "metadata": {
    "tags": []
   },
   "outputs": [
    {
     "data": {
      "text/html": [
       "<div>\n",
       "<style scoped>\n",
       "    .dataframe tbody tr th:only-of-type {\n",
       "        vertical-align: middle;\n",
       "    }\n",
       "\n",
       "    .dataframe tbody tr th {\n",
       "        vertical-align: top;\n",
       "    }\n",
       "\n",
       "    .dataframe thead th {\n",
       "        text-align: right;\n",
       "    }\n",
       "</style>\n",
       "<table border=\"1\" class=\"dataframe\">\n",
       "  <thead>\n",
       "    <tr style=\"text-align: right;\">\n",
       "      <th></th>\n",
       "      <th>ORDER_NO</th>\n",
       "      <th>ORDER_DT</th>\n",
       "    </tr>\n",
       "  </thead>\n",
       "  <tbody>\n",
       "    <tr>\n",
       "      <th>0</th>\n",
       "      <td>WO0001</td>\n",
       "      <td>2023-05-12</td>\n",
       "    </tr>\n",
       "    <tr>\n",
       "      <th>1</th>\n",
       "      <td>WO0002</td>\n",
       "      <td>2023-05-12</td>\n",
       "    </tr>\n",
       "    <tr>\n",
       "      <th>2</th>\n",
       "      <td>WO0003</td>\n",
       "      <td>2023-05-12</td>\n",
       "    </tr>\n",
       "    <tr>\n",
       "      <th>3</th>\n",
       "      <td>WO0011</td>\n",
       "      <td>2023-05-13</td>\n",
       "    </tr>\n",
       "    <tr>\n",
       "      <th>4</th>\n",
       "      <td>WO0012</td>\n",
       "      <td>2023-05-13</td>\n",
       "    </tr>\n",
       "    <tr>\n",
       "      <th>5</th>\n",
       "      <td>WO0013</td>\n",
       "      <td>2023-05-13</td>\n",
       "    </tr>\n",
       "    <tr>\n",
       "      <th>6</th>\n",
       "      <td>WO0021</td>\n",
       "      <td>2023-05-14</td>\n",
       "    </tr>\n",
       "    <tr>\n",
       "      <th>7</th>\n",
       "      <td>WO0022</td>\n",
       "      <td>2023-05-14</td>\n",
       "    </tr>\n",
       "    <tr>\n",
       "      <th>8</th>\n",
       "      <td>WO0023</td>\n",
       "      <td>2023-05-14</td>\n",
       "    </tr>\n",
       "    <tr>\n",
       "      <th>9</th>\n",
       "      <td>WO0031</td>\n",
       "      <td>2023-05-15</td>\n",
       "    </tr>\n",
       "  </tbody>\n",
       "</table>\n",
       "</div>"
      ],
      "text/plain": [
       "  ORDER_NO    ORDER_DT\n",
       "0   WO0001  2023-05-12\n",
       "1   WO0002  2023-05-12\n",
       "2   WO0003  2023-05-12\n",
       "3   WO0011  2023-05-13\n",
       "4   WO0012  2023-05-13\n",
       "5   WO0013  2023-05-13\n",
       "6   WO0021  2023-05-14\n",
       "7   WO0022  2023-05-14\n",
       "8   WO0023  2023-05-14\n",
       "9   WO0031  2023-05-15"
      ]
     },
     "execution_count": 18,
     "metadata": {},
     "output_type": "execute_result"
    }
   ],
   "source": [
    "import pandas as pd\n",
    "\n",
    "df = pd.read_csv(\"./source/nodb.csv\", encoding='cp949')\n",
    "df = df[[\"ORDER_NO\", \"ORDER_DT\"]]\n",
    "df"
   ]
  },
  {
   "cell_type": "code",
   "execution_count": 62,
   "id": "69b35d89-1d09-414a-8726-940af713dffc",
   "metadata": {
    "tags": []
   },
   "outputs": [
    {
     "data": {
      "text/plain": [
       "True"
      ]
     },
     "execution_count": 62,
     "metadata": {},
     "output_type": "execute_result"
    }
   ],
   "source": [
    "set(df.columns) == set(['ORDER_NO', 'ORDER_DT'])"
   ]
  },
  {
   "cell_type": "code",
   "execution_count": 26,
   "id": "9abf85bd-c249-4224-8a82-bce885420c51",
   "metadata": {
    "tags": []
   },
   "outputs": [
    {
     "name": "stdout",
     "output_type": "stream",
     "text": [
      "WO0001\n"
     ]
    }
   ],
   "source": [
    "for v in df.loc[df['ORDER_NO']=='WO0001', \"ORDER_NO\"].values:\n",
    "    print(v)"
   ]
  },
  {
   "cell_type": "code",
   "execution_count": null,
   "id": "951988fa-248a-46cf-8c9b-ed7cd67b540e",
   "metadata": {},
   "outputs": [],
   "source": []
  },
  {
   "cell_type": "code",
   "execution_count": null,
   "id": "dd5d62b0-e289-4a90-ad54-02ff4d8223d9",
   "metadata": {},
   "outputs": [],
   "source": []
  },
  {
   "cell_type": "code",
   "execution_count": 31,
   "id": "2de3095b-1c99-430b-b145-5f89e1b7565a",
   "metadata": {
    "tags": []
   },
   "outputs": [],
   "source": [
    "df.rename(index={0: 'temp'}, inplace=True)"
   ]
  },
  {
   "cell_type": "code",
   "execution_count": 41,
   "id": "d059f720-099e-4ff8-b9a5-dfafb219f006",
   "metadata": {},
   "outputs": [
    {
     "data": {
      "text/plain": [
       "'temp'"
      ]
     },
     "execution_count": 41,
     "metadata": {},
     "output_type": "execute_result"
    }
   ],
   "source": [
    "df[df['ORDER_NO']=='WO0001'].iloc[0].name"
   ]
  },
  {
   "cell_type": "code",
   "execution_count": 13,
   "id": "a4b1b421-8e20-435c-bfec-f323d8dbd99d",
   "metadata": {
    "tags": []
   },
   "outputs": [
    {
     "data": {
      "text/plain": [
       "'2023-06-07'"
      ]
     },
     "execution_count": 13,
     "metadata": {},
     "output_type": "execute_result"
    }
   ],
   "source": [
    "import datetime\n",
    "\n",
    "datetime.date.today().strftime('%Y-%m-%d')"
   ]
  },
  {
   "cell_type": "code",
   "execution_count": null,
   "id": "20ec79d4-74a9-4e40-985e-5e9208e62216",
   "metadata": {},
   "outputs": [],
   "source": []
  },
  {
   "cell_type": "code",
   "execution_count": null,
   "id": "696cd2f5-8a0c-421b-bb4c-67cc380e9534",
   "metadata": {},
   "outputs": [],
   "source": []
  },
  {
   "cell_type": "code",
   "execution_count": null,
   "id": "a5cf2d45-640a-4422-a49f-f272971c2e16",
   "metadata": {},
   "outputs": [],
   "source": []
  },
  {
   "cell_type": "code",
   "execution_count": 10,
   "id": "d768ca71-0d36-4a91-9e0e-96bc9c112904",
   "metadata": {
    "tags": []
   },
   "outputs": [
    {
     "ename": "AttributeError",
     "evalue": "'ImageFont' object has no attribute 'font_variant'",
     "output_type": "error",
     "traceback": [
      "\u001b[1;31m---------------------------------------------------------------------------\u001b[0m",
      "\u001b[1;31mAttributeError\u001b[0m                            Traceback (most recent call last)",
      "Cell \u001b[1;32mIn[10], line 5\u001b[0m\n\u001b[0;32m      1\u001b[0m \u001b[38;5;28;01mfrom\u001b[39;00m \u001b[38;5;21;01mPIL\u001b[39;00m \u001b[38;5;28;01mimport\u001b[39;00m ImageFont\n\u001b[0;32m      4\u001b[0m font \u001b[38;5;241m=\u001b[39m ImageFont\u001b[38;5;241m.\u001b[39mload_default()\n\u001b[1;32m----> 5\u001b[0m \u001b[43mfont\u001b[49m\u001b[38;5;241;43m.\u001b[39;49m\u001b[43mfont_variant\u001b[49m(size\u001b[38;5;241m=\u001b[39m\u001b[38;5;241m10\u001b[39m)\n",
      "\u001b[1;31mAttributeError\u001b[0m: 'ImageFont' object has no attribute 'font_variant'"
     ]
    }
   ],
   "source": [
    "from PIL import ImageFont\n",
    "\n",
    "\n",
    "font = ImageFont.load_default()\n",
    "font.font_variant(size=10)"
   ]
  },
  {
   "cell_type": "code",
   "execution_count": 13,
   "id": "66d566ae-138e-4238-9c8f-b04645cd5d6c",
   "metadata": {
    "tags": []
   },
   "outputs": [],
   "source": [
    "from PIL import ImageFont\n",
    "\n",
    "# 원하는 폰트 파일 경로와 크기를 지정합니다\n",
    "font_path = '.\\\\temp\\\\DejaVuSansMono.ttf'  # 폰트 파일의 경로\n",
    "font_size = 24  # 폰트 크기\n",
    "\n",
    "# 폰트를 로드합니다\n",
    "font = ImageFont.truetype(font_path, font_size)\n"
   ]
  }
 ],
 "metadata": {
  "kernelspec": {
   "display_name": "Python 3 (ipykernel)",
   "language": "python",
   "name": "python3"
  },
  "language_info": {
   "codemirror_mode": {
    "name": "ipython",
    "version": 3
   },
   "file_extension": ".py",
   "mimetype": "text/x-python",
   "name": "python",
   "nbconvert_exporter": "python",
   "pygments_lexer": "ipython3",
   "version": "3.8.10"
  }
 },
 "nbformat": 4,
 "nbformat_minor": 5
}
